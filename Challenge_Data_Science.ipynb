{
  "cells": [
    {
      "cell_type": "markdown",
      "metadata": {
        "id": "view-in-github",
        "colab_type": "text"
      },
      "source": [
        "<a href=\"https://colab.research.google.com/github/matiaspass/Data-Science/blob/main/Challenge_Data_Science.ipynb\" target=\"_parent\"><img src=\"https://colab.research.google.com/assets/colab-badge.svg\" alt=\"Open In Colab\"/></a>"
      ]
    },
    {
      "cell_type": "markdown",
      "metadata": {
        "id": "K2FZeatj_23S"
      },
      "source": [
        "#**Challenge para aspirantes al puesto de Data Scientist**"
      ]
    },
    {
      "cell_type": "markdown",
      "metadata": {
        "id": "BRXix88WAAO_"
      },
      "source": [
        "##Análisis exploratorio de datos (EDA) del dataset"
      ]
    },
    {
      "cell_type": "markdown",
      "metadata": {
        "id": "QSKBGJw_CLwT"
      },
      "source": [
        "A continuación se realizará un análisis exploratorio para ver la forma, tipo y tamaño de nuestro dataset."
      ]
    },
    {
      "cell_type": "code",
      "execution_count": 1,
      "metadata": {
        "colab": {
          "base_uri": "https://localhost:8080/"
        },
        "id": "Hbqg5p6zALWc",
        "outputId": "4b29ac16-2dc0-4f1b-ce6a-9b4a50a17737"
      },
      "outputs": [
        {
          "output_type": "stream",
          "name": "stdout",
          "text": [
            "Mounted at /content/drive\n"
          ]
        }
      ],
      "source": [
        "# Vinculamos Google Drive\n",
        "from google.colab import drive\n",
        "drive.mount('/content/drive')"
      ]
    },
    {
      "cell_type": "code",
      "execution_count": 104,
      "metadata": {
        "id": "yyAuAcWUBVrw"
      },
      "outputs": [],
      "source": [
        "import pandas as pd\n",
        "import numpy as np\n",
        "import matplotlib.pyplot as plt\n",
        "import seaborn as sns\n",
        "import statsmodels.api as sm\n",
        "path = \"/content/drive/MyDrive/Challenge_VENG/bank-full.csv\"\n",
        "bank_df = pd.read_csv(path) \n",
        "# Para garantizar la reproducibilidad\n",
        "np.random.seed(0)"
      ]
    },
    {
      "cell_type": "code",
      "execution_count": 105,
      "metadata": {
        "colab": {
          "base_uri": "https://localhost:8080/"
        },
        "id": "unvjo5vHCXGg",
        "outputId": "45153ee1-f7c5-4c73-b106-69443db04656"
      },
      "outputs": [
        {
          "output_type": "stream",
          "name": "stdout",
          "text": [
            "   age           job  marital  education default  balance housing loan  \\\n",
            "0   58    management  married   tertiary      no     2143     yes   no   \n",
            "1   44    technician   single  secondary      no       29     yes   no   \n",
            "2   33  entrepreneur  married  secondary      no        2     yes  yes   \n",
            "3   47   blue-collar  married    unknown      no     1506     yes   no   \n",
            "4   33       unknown   single    unknown      no        1      no   no   \n",
            "\n",
            "   contact  day month  duration  campaign  pdays  previous poutcome   y  \n",
            "0  unknown    5   may       261         1     -1         0  unknown  no  \n",
            "1  unknown    5   may       151         1     -1         0  unknown  no  \n",
            "2  unknown    5   may        76         1     -1         0  unknown  no  \n",
            "3  unknown    5   may        92         1     -1         0  unknown  no  \n",
            "4  unknown    5   may       198         1     -1         0  unknown  no  \n"
          ]
        }
      ],
      "source": [
        "# Observamos las primeras filas de nuestros datos\n",
        "print(bank_df.head())"
      ]
    },
    {
      "cell_type": "code",
      "execution_count": 106,
      "metadata": {
        "colab": {
          "base_uri": "https://localhost:8080/"
        },
        "id": "RUgecdf_Fvyr",
        "outputId": "ebe6fac9-456c-4527-aef5-c528e0bd0797"
      },
      "outputs": [
        {
          "output_type": "stream",
          "name": "stdout",
          "text": [
            "Cantidad de Filas y columnas: (45211, 17)\n",
            "Nombre columnas: Index(['age', 'job', 'marital', 'education', 'default', 'balance', 'housing',\n",
            "       'loan', 'contact', 'day', 'month', 'duration', 'campaign', 'pdays',\n",
            "       'previous', 'poutcome', 'y'],\n",
            "      dtype='object')\n"
          ]
        }
      ],
      "source": [
        "# Vemos la forma y los nombres de columnas\n",
        "print('Cantidad de Filas y columnas:',bank_df.shape)\n",
        "print('Nombre columnas:',bank_df.columns)"
      ]
    },
    {
      "cell_type": "code",
      "execution_count": 107,
      "metadata": {
        "colab": {
          "base_uri": "https://localhost:8080/"
        },
        "id": "tYWnQBZaGGLJ",
        "outputId": "234d7e19-91e4-4809-d671-f124cd49b560"
      },
      "outputs": [
        {
          "output_type": "stream",
          "name": "stdout",
          "text": [
            "<class 'pandas.core.frame.DataFrame'>\n",
            "RangeIndex: 45211 entries, 0 to 45210\n",
            "Data columns (total 17 columns):\n",
            " #   Column     Non-Null Count  Dtype \n",
            "---  ------     --------------  ----- \n",
            " 0   age        45211 non-null  int64 \n",
            " 1   job        45211 non-null  object\n",
            " 2   marital    45211 non-null  object\n",
            " 3   education  45211 non-null  object\n",
            " 4   default    45211 non-null  object\n",
            " 5   balance    45211 non-null  int64 \n",
            " 6   housing    45211 non-null  object\n",
            " 7   loan       45211 non-null  object\n",
            " 8   contact    45211 non-null  object\n",
            " 9   day        45211 non-null  int64 \n",
            " 10  month      45211 non-null  object\n",
            " 11  duration   45211 non-null  int64 \n",
            " 12  campaign   45211 non-null  int64 \n",
            " 13  pdays      45211 non-null  int64 \n",
            " 14  previous   45211 non-null  int64 \n",
            " 15  poutcome   45211 non-null  object\n",
            " 16  y          45211 non-null  object\n",
            "dtypes: int64(7), object(10)\n",
            "memory usage: 5.9+ MB\n"
          ]
        }
      ],
      "source": [
        "# Verificamos columnas, valores nulos y tipos de datos\n",
        "bank_df.info()"
      ]
    },
    {
      "cell_type": "markdown",
      "metadata": {
        "id": "tKOKhLqeGWqX"
      },
      "source": [
        "Para este caso se puede observar que no existen valores nulos. Y se tienen datos del tipo object e int64."
      ]
    },
    {
      "cell_type": "code",
      "source": [
        "# Vemos cuantas muestras hay de cada clase\n",
        "\n",
        "print(pd.value_counts(bank_df['y'], sort = True))"
      ],
      "metadata": {
        "colab": {
          "base_uri": "https://localhost:8080/"
        },
        "id": "lwyJTp_B97hV",
        "outputId": "1652f761-1715-4626-b942-30860a735678"
      },
      "execution_count": 108,
      "outputs": [
        {
          "output_type": "stream",
          "name": "stdout",
          "text": [
            "no     39922\n",
            "yes     5289\n",
            "Name: y, dtype: int64\n"
          ]
        }
      ]
    },
    {
      "cell_type": "markdown",
      "source": [
        "Se observa que son 45.211 filas y solamente 5289 son la clase minoritaria con los casos donde el cliente accedio al servicio que ofreció el banco. Representan el 11% de las muestras."
      ],
      "metadata": {
        "id": "WcQAFoV7-bws"
      }
    },
    {
      "cell_type": "code",
      "source": [
        "\n",
        "count_classes = pd.value_counts(bank_df['y'], sort = True)\n",
        "count_classes.plot(kind = 'bar', rot=0)\n",
        "plt.xticks(range(2))\n",
        "plt.title(\"Frequency by observation number\")\n",
        "plt.xlabel(\"Class\")\n",
        "plt.ylabel(\"Number of Observations\");"
      ],
      "metadata": {
        "colab": {
          "base_uri": "https://localhost:8080/",
          "height": 622
        },
        "id": "fKSeoGu--i8f",
        "outputId": "8109bdfb-12f3-4dfe-b004-76efe849e8e9"
      },
      "execution_count": 109,
      "outputs": [
        {
          "output_type": "display_data",
          "data": {
            "text/plain": [
              "<Figure size 1152x720 with 1 Axes>"
            ],
            "image/png": "[encoded data removed]"
          },
          "metadata": {
            "needs_background": "light"
          }
        }
      ]
    },
    {
      "cell_type": "markdown",
      "source": [
        "Debido a que hay un menor número de muestras de una clase que de la otra es que se debe blancear las mismas ya que pueden traer problemas a la hora de que el modelo clasifique. Esta información servirá para cuando se deba aplicar el modelo."
      ],
      "metadata": {
        "id": "8O8YzhH9_x7p"
      }
    },
    {
      "cell_type": "code",
      "execution_count": 110,
      "metadata": {
        "colab": {
          "base_uri": "https://localhost:8080/",
          "height": 300
        },
        "id": "QOxqBA9sGXJQ",
        "outputId": "f1d5a0db-b595-4a07-86a9-55455a60e914"
      },
      "outputs": [
        {
          "output_type": "execute_result",
          "data": {
            "text/plain": [
              "                age        balance           day      duration      campaign  \\\n",
              "count  45211.000000   45211.000000  45211.000000  45211.000000  45211.000000   \n",
              "mean      40.936210    1362.272058     15.806419    258.163080      2.763841   \n",
              "std       10.618762    3044.765829      8.322476    257.527812      3.098021   \n",
              "min       18.000000   -8019.000000      1.000000      0.000000      1.000000   \n",
              "25%       33.000000      72.000000      8.000000    103.000000      1.000000   \n",
              "50%       39.000000     448.000000     16.000000    180.000000      2.000000   \n",
              "75%       48.000000    1428.000000     21.000000    319.000000      3.000000   \n",
              "max       95.000000  102127.000000     31.000000   4918.000000     63.000000   \n",
              "\n",
              "              pdays      previous  \n",
              "count  45211.000000  45211.000000  \n",
              "mean      40.197828      0.580323  \n",
              "std      100.128746      2.303441  \n",
              "min       -1.000000      0.000000  \n",
              "25%       -1.000000      0.000000  \n",
              "50%       -1.000000      0.000000  \n",
              "75%       -1.000000      0.000000  \n",
              "max      871.000000    275.000000  "
            ],
            "text/html": [
              "\n",
              "  <div id=\"df-40611d21-8bcb-4b10-b76d-fd11a01959dc\">\n",
              "    <div class=\"colab-df-container\">\n",
              "      <div>\n",
              "<style scoped>\n",
              "    .dataframe tbody tr th:only-of-type {\n",
              "        vertical-align: middle;\n",
              "    }\n",
              "\n",
              "    .dataframe tbody tr th {\n",
              "        vertical-align: top;\n",
              "    }\n",
              "\n",
              "    .dataframe thead th {\n",
              "        text-align: right;\n",
              "    }\n",
              "</style>\n",
              "<table border=\"1\" class=\"dataframe\">\n",
              "  <thead>\n",
              "    <tr style=\"text-align: right;\">\n",
              "      <th></th>\n",
              "      <th>age</th>\n",
              "      <th>balance</th>\n",
              "      <th>day</th>\n",
              "      <th>duration</th>\n",
              "      <th>campaign</th>\n",
              "      <th>pdays</th>\n",
              "      <th>previous</th>\n",
              "    </tr>\n",
              "  </thead>\n",
              "  <tbody>\n",
              "    <tr>\n",
              "      <th>count</th>\n",
              "      <td>45211.000000</td>\n",
              "      <td>45211.000000</td>\n",
              "      <td>45211.000000</td>\n",
              "      <td>45211.000000</td>\n",
              "      <td>45211.000000</td>\n",
              "      <td>45211.000000</td>\n",
              "      <td>45211.000000</td>\n",
              "    </tr>\n",
              "    <tr>\n",
              "      <th>mean</th>\n",
              "      <td>40.936210</td>\n",
              "      <td>1362.272058</td>\n",
              "      <td>15.806419</td>\n",
              "      <td>258.163080</td>\n",
              "      <td>2.763841</td>\n",
              "      <td>40.197828</td>\n",
              "      <td>0.580323</td>\n",
              "    </tr>\n",
              "    <tr>\n",
              "      <th>std</th>\n",
              "      <td>10.618762</td>\n",
              "      <td>3044.765829</td>\n",
              "      <td>8.322476</td>\n",
              "      <td>257.527812</td>\n",
              "      <td>3.098021</td>\n",
              "      <td>100.128746</td>\n",
              "      <td>2.303441</td>\n",
              "    </tr>\n",
              "    <tr>\n",
              "      <th>min</th>\n",
              "      <td>18.000000</td>\n",
              "      <td>-8019.000000</td>\n",
              "      <td>1.000000</td>\n",
              "      <td>0.000000</td>\n",
              "      <td>1.000000</td>\n",
              "      <td>-1.000000</td>\n",
              "      <td>0.000000</td>\n",
              "    </tr>\n",
              "    <tr>\n",
              "      <th>25%</th>\n",
              "      <td>33.000000</td>\n",
              "      <td>72.000000</td>\n",
              "      <td>8.000000</td>\n",
              "      <td>103.000000</td>\n",
              "      <td>1.000000</td>\n",
              "      <td>-1.000000</td>\n",
              "      <td>0.000000</td>\n",
              "    </tr>\n",
              "    <tr>\n",
              "      <th>50%</th>\n",
              "      <td>39.000000</td>\n",
              "      <td>448.000000</td>\n",
              "      <td>16.000000</td>\n",
              "      <td>180.000000</td>\n",
              "      <td>2.000000</td>\n",
              "      <td>-1.000000</td>\n",
              "      <td>0.000000</td>\n",
              "    </tr>\n",
              "    <tr>\n",
              "      <th>75%</th>\n",
              "      <td>48.000000</td>\n",
              "      <td>1428.000000</td>\n",
              "      <td>21.000000</td>\n",
              "      <td>319.000000</td>\n",
              "      <td>3.000000</td>\n",
              "      <td>-1.000000</td>\n",
              "      <td>0.000000</td>\n",
              "    </tr>\n",
              "    <tr>\n",
              "      <th>max</th>\n",
              "      <td>95.000000</td>\n",
              "      <td>102127.000000</td>\n",
              "      <td>31.000000</td>\n",
              "      <td>4918.000000</td>\n",
              "      <td>63.000000</td>\n",
              "      <td>871.000000</td>\n",
              "      <td>275.000000</td>\n",
              "    </tr>\n",
              "  </tbody>\n",
              "</table>\n",
              "</div>\n",
              "      <button class=\"colab-df-convert\" onclick=\"convertToInteractive('df-40611d21-8bcb-4b10-b76d-fd11a01959dc')\"\n",
              "              title=\"Convert this dataframe to an interactive table.\"\n",
              "              style=\"display:none;\">\n",
              "        \n",
              "  <svg xmlns=\"http://www.w3.org/2000/svg\" height=\"24px\"viewBox=\"0 0 24 24\"\n",
              "       width=\"24px\">\n",
              "    <path d=\"M0 0h24v24H0V0z\" fill=\"none\"/>\n",
              "    <path d=\"M18.56 5.44l.94 2.06.94-2.06 2.06-.94-2.06-.94-.94-2.06-.94 2.06-2.06.94zm-11 1L8.5 8.5l.94-2.06 2.06-.94-2.06-.94L8.5 2.5l-.94 2.06-2.06.94zm10 10l.94 2.06.94-2.06 2.06-.94-2.06-.94-.94-2.06-.94 2.06-2.06.94z\"/><path d=\"M17.41 7.96l-1.37-1.37c-.4-.4-.92-.59-1.43-.59-.52 0-1.04.2-1.43.59L10.3 9.45l-7.72 7.72c-.78.78-.78 2.05 0 2.83L4 21.41c.39.39.9.59 1.41.59.51 0 1.02-.2 1.41-.59l7.78-7.78 2.81-2.81c.8-.78.8-2.07 0-2.86zM5.41 20L4 18.59l7.72-7.72 1.47 1.35L5.41 20z\"/>\n",
              "  </svg>\n",
              "      </button>\n",
              "      \n",
              "  <style>\n",
              "    .colab-df-container {\n",
              "      display:flex;\n",
              "      flex-wrap:wrap;\n",
              "      gap: 12px;\n",
              "    }\n",
              "\n",
              "    .colab-df-convert {\n",
              "      background-color: #E8F0FE;\n",
              "      border: none;\n",
              "      border-radius: 50%;\n",
              "      cursor: pointer;\n",
              "      display: none;\n",
              "      fill: #1967D2;\n",
              "      height: 32px;\n",
              "      padding: 0 0 0 0;\n",
              "      width: 32px;\n",
              "    }\n",
              "\n",
              "    .colab-df-convert:hover {\n",
              "      background-color: #E2EBFA;\n",
              "      box-shadow: 0px 1px 2px rgba(60, 64, 67, 0.3), 0px 1px 3px 1px rgba(60, 64, 67, 0.15);\n",
              "      fill: #174EA6;\n",
              "    }\n",
              "\n",
              "    [theme=dark] .colab-df-convert {\n",
              "      background-color: #3B4455;\n",
              "      fill: #D2E3FC;\n",
              "    }\n",
              "\n",
              "    [theme=dark] .colab-df-convert:hover {\n",
              "      background-color: #434B5C;\n",
              "      box-shadow: 0px 1px 3px 1px rgba(0, 0, 0, 0.15);\n",
              "      filter: drop-shadow(0px 1px 2px rgba(0, 0, 0, 0.3));\n",
              "      fill: #FFFFFF;\n",
              "    }\n",
              "  </style>\n",
              "\n",
              "      <script>\n",
              "        const buttonEl =\n",
              "          document.querySelector('#df-40611d21-8bcb-4b10-b76d-fd11a01959dc button.colab-df-convert');\n",
              "        buttonEl.style.display =\n",
              "          google.colab.kernel.accessAllowed ? 'block' : 'none';\n",
              "\n",
              "        async function convertToInteractive(key) {\n",
              "          const element = document.querySelector('#df-40611d21-8bcb-4b10-b76d-fd11a01959dc');\n",
              "          const dataTable =\n",
              "            await google.colab.kernel.invokeFunction('convertToInteractive',\n",
              "                                                     [key], {});\n",
              "          if (!dataTable) return;\n",
              "\n",
              "          const docLinkHtml = 'Like what you see? Visit the ' +\n",
              "            '<a target=\"_blank\" href=https://colab.research.google.com/notebooks/data_table.ipynb>data table notebook</a>'\n",
              "            + ' to learn more about interactive tables.';\n",
              "          element.innerHTML = '';\n",
              "          dataTable['output_type'] = 'display_data';\n",
              "          await google.colab.output.renderOutput(dataTable, element);\n",
              "          const docLink = document.createElement('div');\n",
              "          docLink.innerHTML = docLinkHtml;\n",
              "          element.appendChild(docLink);\n",
              "        }\n",
              "      </script>\n",
              "    </div>\n",
              "  </div>\n",
              "  "
            ]
          },
          "metadata": {},
          "execution_count": 110
        }
      ],
      "source": [
        "# Realizamos una descripción estadística de los datos\n",
        "bank_df.describe()"
      ]
    },
    {
      "cell_type": "markdown",
      "metadata": {
        "id": "Iqr4Ddrcb-7f"
      },
      "source": [
        "Se realizan graficas de los datos para un análisis visual de los mismos."
      ]
    },
    {
      "cell_type": "code",
      "execution_count": 111,
      "metadata": {
        "colab": {
          "base_uri": "https://localhost:8080/",
          "height": 605
        },
        "id": "FRpmPcnHcJUN",
        "outputId": "5b0a2338-f4bc-4c68-945f-abd012e81e2e"
      },
      "outputs": [
        {
          "output_type": "display_data",
          "data": {
            "text/plain": [
              "<Figure size 1152x720 with 9 Axes>"
            ],
            "image/png": "[encoded data removed]"
          },
          "metadata": {
            "needs_background": "light"
          }
        }
      ],
      "source": [
        "# Se visualizan rápidamente las caraterísticas de entrada\n",
        "plt.rcParams['figure.figsize'] = (16, 10)\n",
        "plt.style.use('bmh')\n",
        "bank_df.hist(bins=40)\n",
        "plt.show()"
      ]
    },
    {
      "cell_type": "markdown",
      "source": [
        "Se realizan gráficas de cajas y bigotes para observar mejor la distribución."
      ],
      "metadata": {
        "id": "5DVpeJ-jHEgN"
      }
    },
    {
      "cell_type": "code",
      "source": [
        "plt.rcParams['figure.figsize'] = (16, 10)\n",
        "# Visualizamos rápidamente las caraterísticas de entrada\n",
        "green_diamond = dict(markerfacecolor='g', marker='D')\n",
        "data = [bank_df['duration']]\n",
        "plt.boxplot(data,labels=['duration'], notch = True, patch_artist=True, flierprops=green_diamond)\n",
        "  \n",
        "plt.show() "
      ],
      "metadata": {
        "colab": {
          "base_uri": "https://localhost:8080/",
          "height": 588
        },
        "id": "SA2bb8fGHYGG",
        "outputId": "542ff946-6aeb-4607-921c-2d7e29b30ffb"
      },
      "execution_count": 112,
      "outputs": [
        {
          "output_type": "display_data",
          "data": {
            "text/plain": [
              "<Figure size 1152x720 with 1 Axes>"
            ],
            "image/png": "[encoded data removed]"
          },
          "metadata": {
            "needs_background": "light"
          }
        }
      ]
    },
    {
      "cell_type": "code",
      "source": [
        "# Visualizamos rápidamente las caraterísticas de entrada\n",
        "green_diamond = dict(markerfacecolor='g', marker='D')\n",
        "data = [bank_df['balance']]\n",
        "plt.boxplot(data,labels=['balance'], notch = True, patch_artist=True, flierprops=green_diamond)\n",
        "  \n",
        "plt.show() "
      ],
      "metadata": {
        "colab": {
          "base_uri": "https://localhost:8080/",
          "height": 588
        },
        "id": "O5heaIgkHlwG",
        "outputId": "a82965f2-a9cc-446c-ac03-32e550e4d13b"
      },
      "execution_count": 113,
      "outputs": [
        {
          "output_type": "display_data",
          "data": {
            "text/plain": [
              "<Figure size 1152x720 with 1 Axes>"
            ],
            "image/png": "[encoded data removed]"
          },
          "metadata": {
            "needs_background": "light"
          }
        }
      ]
    },
    {
      "cell_type": "code",
      "source": [
        "# Visualizamos rápidamente las caraterísticas de entrada\n",
        "green_diamond = dict(markerfacecolor='g', marker='D')\n",
        "data = [bank_df['pdays']]\n",
        "plt.boxplot(data,labels=['pdays'], notch = True, patch_artist=True, flierprops=green_diamond)\n",
        "  \n",
        "plt.show() "
      ],
      "metadata": {
        "colab": {
          "base_uri": "https://localhost:8080/",
          "height": 588
        },
        "id": "-rW-Pkv9HwXV",
        "outputId": "56e12574-ca7e-454c-e948-975232e639f0"
      },
      "execution_count": 114,
      "outputs": [
        {
          "output_type": "display_data",
          "data": {
            "text/plain": [
              "<Figure size 1152x720 with 1 Axes>"
            ],
            "image/png": "[encoded data removed]"
          },
          "metadata": {
            "needs_background": "light"
          }
        }
      ]
    },
    {
      "cell_type": "code",
      "source": [
        "# Visualizamos rápidamente las caraterísticas de entrada\n",
        "green_diamond = dict(markerfacecolor='g', marker='D')\n",
        "data = [bank_df['previous']]\n",
        "plt.boxplot(data,labels=['previous'], notch = True, patch_artist=True, flierprops=green_diamond)\n",
        "  \n",
        "plt.show() "
      ],
      "metadata": {
        "colab": {
          "base_uri": "https://localhost:8080/",
          "height": 588
        },
        "id": "plk7IU9aWiam",
        "outputId": "ddddbfc7-0ae0-4f12-ef72-16ec0b726d01"
      },
      "execution_count": 115,
      "outputs": [
        {
          "output_type": "display_data",
          "data": {
            "text/plain": [
              "<Figure size 1152x720 with 1 Axes>"
            ],
            "image/png": "[encoded data removed]"
          },
          "metadata": {
            "needs_background": "light"
          }
        }
      ]
    },
    {
      "cell_type": "code",
      "source": [
        "# Visualizamos rápidamente las caraterísticas de entrada\n",
        "green_diamond = dict(markerfacecolor='g', marker='D')\n",
        "data = [bank_df['campaign']]\n",
        "plt.boxplot(data,labels=['campaign'], notch = True, patch_artist=True, flierprops=green_diamond)\n",
        "  \n",
        "plt.show() "
      ],
      "metadata": {
        "colab": {
          "base_uri": "https://localhost:8080/",
          "height": 588
        },
        "id": "3kphC9p4WnKF",
        "outputId": "12a2054a-64e0-4db7-f88d-bd482839139d"
      },
      "execution_count": 116,
      "outputs": [
        {
          "output_type": "display_data",
          "data": {
            "text/plain": [
              "<Figure size 1152x720 with 1 Axes>"
            ],
            "image/png": "[encoded data removed]"
          },
          "metadata": {
            "needs_background": "light"
          }
        }
      ]
    },
    {
      "cell_type": "markdown",
      "source": [
        "De las gráficas anteriores se puede observar que los datos están concentrados en la mayoría de los casos excepto para las variables age y day.\n",
        "Por otro lado en todos los casos se observa valores outliers por fuera de los bigotes. "
      ],
      "metadata": {
        "id": "uDMBY--a9Ukw"
      }
    },
    {
      "cell_type": "markdown",
      "source": [
        "#Proceso de Transformación\n",
        "\n",
        "Dado que se tienen variables del tipo object se transformar para poder utilizarlas en las estimaciones de alguno de los modelos que se vayan a realizar. Para ello se codifican las varibles categóricas utilizando pandas."
      ],
      "metadata": {
        "id": "C8VrnigIBspF"
      }
    },
    {
      "cell_type": "code",
      "source": [
        "pd.get_dummies(bank_df, columns=[\"default\", \"housing\", \"loan\", \"y\"])"
      ],
      "metadata": {
        "colab": {
          "base_uri": "https://localhost:8080/",
          "height": 488
        },
        "id": "EsC0SEMnB6WF",
        "outputId": "9d52eb52-1b60-41b5-d6a6-b07a568b414a"
      },
      "execution_count": 117,
      "outputs": [
        {
          "output_type": "execute_result",
          "data": {
            "text/plain": [
              "       age           job   marital  education  balance    contact  day month  \\\n",
              "0       58    management   married   tertiary     2143    unknown    5   may   \n",
              "1       44    technician    single  secondary       29    unknown    5   may   \n",
              "2       33  entrepreneur   married  secondary        2    unknown    5   may   \n",
              "3       47   blue-collar   married    unknown     1506    unknown    5   may   \n",
              "4       33       unknown    single    unknown        1    unknown    5   may   \n",
              "...    ...           ...       ...        ...      ...        ...  ...   ...   \n",
              "45206   51    technician   married   tertiary      825   cellular   17   nov   \n",
              "45207   71       retired  divorced    primary     1729   cellular   17   nov   \n",
              "45208   72       retired   married  secondary     5715   cellular   17   nov   \n",
              "45209   57   blue-collar   married  secondary      668  telephone   17   nov   \n",
              "45210   37  entrepreneur   married  secondary     2971   cellular   17   nov   \n",
              "\n",
              "       duration  campaign  ...  previous  poutcome default_no  default_yes  \\\n",
              "0           261         1  ...         0   unknown          1            0   \n",
              "1           151         1  ...         0   unknown          1            0   \n",
              "2            76         1  ...         0   unknown          1            0   \n",
              "3            92         1  ...         0   unknown          1            0   \n",
              "4           198         1  ...         0   unknown          1            0   \n",
              "...         ...       ...  ...       ...       ...        ...          ...   \n",
              "45206       977         3  ...         0   unknown          1            0   \n",
              "45207       456         2  ...         0   unknown          1            0   \n",
              "45208      1127         5  ...         3   success          1            0   \n",
              "45209       508         4  ...         0   unknown          1            0   \n",
              "45210       361         2  ...        11     other          1            0   \n",
              "\n",
              "       housing_no  housing_yes  loan_no  loan_yes  y_no  y_yes  \n",
              "0               0            1        1         0     1      0  \n",
              "1               0            1        1         0     1      0  \n",
              "2               0            1        0         1     1      0  \n",
              "3               0            1        1         0     1      0  \n",
              "4               1            0        1         0     1      0  \n",
              "...           ...          ...      ...       ...   ...    ...  \n",
              "45206           1            0        1         0     0      1  \n",
              "45207           1            0        1         0     0      1  \n",
              "45208           1            0        1         0     0      1  \n",
              "45209           1            0        1         0     1      0  \n",
              "45210           1            0        1         0     1      0  \n",
              "\n",
              "[45211 rows x 21 columns]"
            ],
            "text/html": [
              "\n",
              "  <div id=\"df-74bf630f-08cd-425a-96f7-e2b281854b13\">\n",
              "    <div class=\"colab-df-container\">\n",
              "      <div>\n",
              "<style scoped>\n",
              "    .dataframe tbody tr th:only-of-type {\n",
              "        vertical-align: middle;\n",
              "    }\n",
              "\n",
              "    .dataframe tbody tr th {\n",
              "        vertical-align: top;\n",
              "    }\n",
              "\n",
              "    .dataframe thead th {\n",
              "        text-align: right;\n",
              "    }\n",
              "</style>\n",
              "<table border=\"1\" class=\"dataframe\">\n",
              "  <thead>\n",
              "    <tr style=\"text-align: right;\">\n",
              "      <th></th>\n",
              "      <th>age</th>\n",
              "      <th>job</th>\n",
              "      <th>marital</th>\n",
              "      <th>education</th>\n",
              "      <th>balance</th>\n",
              "      <th>contact</th>\n",
              "      <th>day</th>\n",
              "      <th>month</th>\n",
              "      <th>duration</th>\n",
              "      <th>campaign</th>\n",
              "      <th>...</th>\n",
              "      <th>previous</th>\n",
              "      <th>poutcome</th>\n",
              "      <th>default_no</th>\n",
              "      <th>default_yes</th>\n",
              "      <th>housing_no</th>\n",
              "      <th>housing_yes</th>\n",
              "      <th>loan_no</th>\n",
              "      <th>loan_yes</th>\n",
              "      <th>y_no</th>\n",
              "      <th>y_yes</th>\n",
              "    </tr>\n",
              "  </thead>\n",
              "  <tbody>\n",
              "    <tr>\n",
              "      <th>0</th>\n",
              "      <td>58</td>\n",
              "      <td>management</td>\n",
              "      <td>married</td>\n",
              "      <td>tertiary</td>\n",
              "      <td>2143</td>\n",
              "      <td>unknown</td>\n",
              "      <td>5</td>\n",
              "      <td>may</td>\n",
              "      <td>261</td>\n",
              "      <td>1</td>\n",
              "      <td>...</td>\n",
              "      <td>0</td>\n",
              "      <td>unknown</td>\n",
              "      <td>1</td>\n",
              "      <td>0</td>\n",
              "      <td>0</td>\n",
              "      <td>1</td>\n",
              "      <td>1</td>\n",
              "      <td>0</td>\n",
              "      <td>1</td>\n",
              "      <td>0</td>\n",
              "    </tr>\n",
              "    <tr>\n",
              "      <th>1</th>\n",
              "      <td>44</td>\n",
              "      <td>technician</td>\n",
              "      <td>single</td>\n",
              "      <td>secondary</td>\n",
              "      <td>29</td>\n",
              "      <td>unknown</td>\n",
              "      <td>5</td>\n",
              "      <td>may</td>\n",
              "      <td>151</td>\n",
              "      <td>1</td>\n",
              "      <td>...</td>\n",
              "      <td>0</td>\n",
              "      <td>unknown</td>\n",
              "      <td>1</td>\n",
              "      <td>0</td>\n",
              "      <td>0</td>\n",
              "      <td>1</td>\n",
              "      <td>1</td>\n",
              "      <td>0</td>\n",
              "      <td>1</td>\n",
              "      <td>0</td>\n",
              "    </tr>\n",
              "    <tr>\n",
              "      <th>2</th>\n",
              "      <td>33</td>\n",
              "      <td>entrepreneur</td>\n",
              "      <td>married</td>\n",
              "      <td>secondary</td>\n",
              "      <td>2</td>\n",
              "      <td>unknown</td>\n",
              "      <td>5</td>\n",
              "      <td>may</td>\n",
              "      <td>76</td>\n",
              "      <td>1</td>\n",
              "      <td>...</td>\n",
              "      <td>0</td>\n",
              "      <td>unknown</td>\n",
              "      <td>1</td>\n",
              "      <td>0</td>\n",
              "      <td>0</td>\n",
              "      <td>1</td>\n",
              "      <td>0</td>\n",
              "      <td>1</td>\n",
              "      <td>1</td>\n",
              "      <td>0</td>\n",
              "    </tr>\n",
              "    <tr>\n",
              "      <th>3</th>\n",
              "      <td>47</td>\n",
              "      <td>blue-collar</td>\n",
              "      <td>married</td>\n",
              "      <td>unknown</td>\n",
              "      <td>1506</td>\n",
              "      <td>unknown</td>\n",
              "      <td>5</td>\n",
              "      <td>may</td>\n",
              "      <td>92</td>\n",
              "      <td>1</td>\n",
              "      <td>...</td>\n",
              "      <td>0</td>\n",
              "      <td>unknown</td>\n",
              "      <td>1</td>\n",
              "      <td>0</td>\n",
              "      <td>0</td>\n",
              "      <td>1</td>\n",
              "      <td>1</td>\n",
              "      <td>0</td>\n",
              "      <td>1</td>\n",
              "      <td>0</td>\n",
              "    </tr>\n",
              "    <tr>\n",
              "      <th>4</th>\n",
              "      <td>33</td>\n",
              "      <td>unknown</td>\n",
              "      <td>single</td>\n",
              "      <td>unknown</td>\n",
              "      <td>1</td>\n",
              "      <td>unknown</td>\n",
              "      <td>5</td>\n",
              "      <td>may</td>\n",
              "      <td>198</td>\n",
              "      <td>1</td>\n",
              "      <td>...</td>\n",
              "      <td>0</td>\n",
              "      <td>unknown</td>\n",
              "      <td>1</td>\n",
              "      <td>0</td>\n",
              "      <td>1</td>\n",
              "      <td>0</td>\n",
              "      <td>1</td>\n",
              "      <td>0</td>\n",
              "      <td>1</td>\n",
              "      <td>0</td>\n",
              "    </tr>\n",
              "    <tr>\n",
              "      <th>...</th>\n",
              "      <td>...</td>\n",
              "      <td>...</td>\n",
              "      <td>...</td>\n",
              "      <td>...</td>\n",
              "      <td>...</td>\n",
              "      <td>...</td>\n",
              "      <td>...</td>\n",
              "      <td>...</td>\n",
              "      <td>...</td>\n",
              "      <td>...</td>\n",
              "      <td>...</td>\n",
              "      <td>...</td>\n",
              "      <td>...</td>\n",
              "      <td>...</td>\n",
              "      <td>...</td>\n",
              "      <td>...</td>\n",
              "      <td>...</td>\n",
              "      <td>...</td>\n",
              "      <td>...</td>\n",
              "      <td>...</td>\n",
              "      <td>...</td>\n",
              "    </tr>\n",
              "    <tr>\n",
              "      <th>45206</th>\n",
              "      <td>51</td>\n",
              "      <td>technician</td>\n",
              "      <td>married</td>\n",
              "      <td>tertiary</td>\n",
              "      <td>825</td>\n",
              "      <td>cellular</td>\n",
              "      <td>17</td>\n",
              "      <td>nov</td>\n",
              "      <td>977</td>\n",
              "      <td>3</td>\n",
              "      <td>...</td>\n",
              "      <td>0</td>\n",
              "      <td>unknown</td>\n",
              "      <td>1</td>\n",
              "      <td>0</td>\n",
              "      <td>1</td>\n",
              "      <td>0</td>\n",
              "      <td>1</td>\n",
              "      <td>0</td>\n",
              "      <td>0</td>\n",
              "      <td>1</td>\n",
              "    </tr>\n",
              "    <tr>\n",
              "      <th>45207</th>\n",
              "      <td>71</td>\n",
              "      <td>retired</td>\n",
              "      <td>divorced</td>\n",
              "      <td>primary</td>\n",
              "      <td>1729</td>\n",
              "      <td>cellular</td>\n",
              "      <td>17</td>\n",
              "      <td>nov</td>\n",
              "      <td>456</td>\n",
              "      <td>2</td>\n",
              "      <td>...</td>\n",
              "      <td>0</td>\n",
              "      <td>unknown</td>\n",
              "      <td>1</td>\n",
              "      <td>0</td>\n",
              "      <td>1</td>\n",
              "      <td>0</td>\n",
              "      <td>1</td>\n",
              "      <td>0</td>\n",
              "      <td>0</td>\n",
              "      <td>1</td>\n",
              "    </tr>\n",
              "    <tr>\n",
              "      <th>45208</th>\n",
              "      <td>72</td>\n",
              "      <td>retired</td>\n",
              "      <td>married</td>\n",
              "      <td>secondary</td>\n",
              "      <td>5715</td>\n",
              "      <td>cellular</td>\n",
              "      <td>17</td>\n",
              "      <td>nov</td>\n",
              "      <td>1127</td>\n",
              "      <td>5</td>\n",
              "      <td>...</td>\n",
              "      <td>3</td>\n",
              "      <td>success</td>\n",
              "      <td>1</td>\n",
              "      <td>0</td>\n",
              "      <td>1</td>\n",
              "      <td>0</td>\n",
              "      <td>1</td>\n",
              "      <td>0</td>\n",
              "      <td>0</td>\n",
              "      <td>1</td>\n",
              "    </tr>\n",
              "    <tr>\n",
              "      <th>45209</th>\n",
              "      <td>57</td>\n",
              "      <td>blue-collar</td>\n",
              "      <td>married</td>\n",
              "      <td>secondary</td>\n",
              "      <td>668</td>\n",
              "      <td>telephone</td>\n",
              "      <td>17</td>\n",
              "      <td>nov</td>\n",
              "      <td>508</td>\n",
              "      <td>4</td>\n",
              "      <td>...</td>\n",
              "      <td>0</td>\n",
              "      <td>unknown</td>\n",
              "      <td>1</td>\n",
              "      <td>0</td>\n",
              "      <td>1</td>\n",
              "      <td>0</td>\n",
              "      <td>1</td>\n",
              "      <td>0</td>\n",
              "      <td>1</td>\n",
              "      <td>0</td>\n",
              "    </tr>\n",
              "    <tr>\n",
              "      <th>45210</th>\n",
              "      <td>37</td>\n",
              "      <td>entrepreneur</td>\n",
              "      <td>married</td>\n",
              "      <td>secondary</td>\n",
              "      <td>2971</td>\n",
              "      <td>cellular</td>\n",
              "      <td>17</td>\n",
              "      <td>nov</td>\n",
              "      <td>361</td>\n",
              "      <td>2</td>\n",
              "      <td>...</td>\n",
              "      <td>11</td>\n",
              "      <td>other</td>\n",
              "      <td>1</td>\n",
              "      <td>0</td>\n",
              "      <td>1</td>\n",
              "      <td>0</td>\n",
              "      <td>1</td>\n",
              "      <td>0</td>\n",
              "      <td>1</td>\n",
              "      <td>0</td>\n",
              "    </tr>\n",
              "  </tbody>\n",
              "</table>\n",
              "<p>45211 rows × 21 columns</p>\n",
              "</div>\n",
              "      <button class=\"colab-df-convert\" onclick=\"convertToInteractive('df-74bf630f-08cd-425a-96f7-e2b281854b13')\"\n",
              "              title=\"Convert this dataframe to an interactive table.\"\n",
              "              style=\"display:none;\">\n",
              "        \n",
              "  <svg xmlns=\"http://www.w3.org/2000/svg\" height=\"24px\"viewBox=\"0 0 24 24\"\n",
              "       width=\"24px\">\n",
              "    <path d=\"M0 0h24v24H0V0z\" fill=\"none\"/>\n",
              "    <path d=\"M18.56 5.44l.94 2.06.94-2.06 2.06-.94-2.06-.94-.94-2.06-.94 2.06-2.06.94zm-11 1L8.5 8.5l.94-2.06 2.06-.94-2.06-.94L8.5 2.5l-.94 2.06-2.06.94zm10 10l.94 2.06.94-2.06 2.06-.94-2.06-.94-.94-2.06-.94 2.06-2.06.94z\"/><path d=\"M17.41 7.96l-1.37-1.37c-.4-.4-.92-.59-1.43-.59-.52 0-1.04.2-1.43.59L10.3 9.45l-7.72 7.72c-.78.78-.78 2.05 0 2.83L4 21.41c.39.39.9.59 1.41.59.51 0 1.02-.2 1.41-.59l7.78-7.78 2.81-2.81c.8-.78.8-2.07 0-2.86zM5.41 20L4 18.59l7.72-7.72 1.47 1.35L5.41 20z\"/>\n",
              "  </svg>\n",
              "      </button>\n",
              "      \n",
              "  <style>\n",
              "    .colab-df-container {\n",
              "      display:flex;\n",
              "      flex-wrap:wrap;\n",
              "      gap: 12px;\n",
              "    }\n",
              "\n",
              "    .colab-df-convert {\n",
              "      background-color: #E8F0FE;\n",
              "      border: none;\n",
              "      border-radius: 50%;\n",
              "      cursor: pointer;\n",
              "      display: none;\n",
              "      fill: #1967D2;\n",
              "      height: 32px;\n",
              "      padding: 0 0 0 0;\n",
              "      width: 32px;\n",
              "    }\n",
              "\n",
              "    .colab-df-convert:hover {\n",
              "      background-color: #E2EBFA;\n",
              "      box-shadow: 0px 1px 2px rgba(60, 64, 67, 0.3), 0px 1px 3px 1px rgba(60, 64, 67, 0.15);\n",
              "      fill: #174EA6;\n",
              "    }\n",
              "\n",
              "    [theme=dark] .colab-df-convert {\n",
              "      background-color: #3B4455;\n",
              "      fill: #D2E3FC;\n",
              "    }\n",
              "\n",
              "    [theme=dark] .colab-df-convert:hover {\n",
              "      background-color: #434B5C;\n",
              "      box-shadow: 0px 1px 3px 1px rgba(0, 0, 0, 0.15);\n",
              "      filter: drop-shadow(0px 1px 2px rgba(0, 0, 0, 0.3));\n",
              "      fill: #FFFFFF;\n",
              "    }\n",
              "  </style>\n",
              "\n",
              "      <script>\n",
              "        const buttonEl =\n",
              "          document.querySelector('#df-74bf630f-08cd-425a-96f7-e2b281854b13 button.colab-df-convert');\n",
              "        buttonEl.style.display =\n",
              "          google.colab.kernel.accessAllowed ? 'block' : 'none';\n",
              "\n",
              "        async function convertToInteractive(key) {\n",
              "          const element = document.querySelector('#df-74bf630f-08cd-425a-96f7-e2b281854b13');\n",
              "          const dataTable =\n",
              "            await google.colab.kernel.invokeFunction('convertToInteractive',\n",
              "                                                     [key], {});\n",
              "          if (!dataTable) return;\n",
              "\n",
              "          const docLinkHtml = 'Like what you see? Visit the ' +\n",
              "            '<a target=\"_blank\" href=https://colab.research.google.com/notebooks/data_table.ipynb>data table notebook</a>'\n",
              "            + ' to learn more about interactive tables.';\n",
              "          element.innerHTML = '';\n",
              "          dataTable['output_type'] = 'display_data';\n",
              "          await google.colab.output.renderOutput(dataTable, element);\n",
              "          const docLink = document.createElement('div');\n",
              "          docLink.innerHTML = docLinkHtml;\n",
              "          element.appendChild(docLink);\n",
              "        }\n",
              "      </script>\n",
              "    </div>\n",
              "  </div>\n",
              "  "
            ]
          },
          "metadata": {},
          "execution_count": 117
        }
      ]
    },
    {
      "cell_type": "markdown",
      "source": [
        "Para no tener tantas columnas se eliminan la primer columna de cada vaiable ya así nos queda solo la columna 'yes' de la codificación por lo cual ahora quedará 1 para el caso positivo y cero para el caso negativo."
      ],
      "metadata": {
        "id": "Qbiu3lS2CnJD"
      }
    },
    {
      "cell_type": "code",
      "source": [
        "bank_df = pd.get_dummies(bank_df, columns = [\"default\", \"housing\", \"loan\", \"y\"], drop_first = True)"
      ],
      "metadata": {
        "id": "HRez4bElCU7c"
      },
      "execution_count": 118,
      "outputs": []
    },
    {
      "cell_type": "markdown",
      "source": [
        "También se codifican las otras varibles categóricas no binarias. En este caso el procedimiento es diferente ya que se debe asignar de manera \"manual\" dichos valores. En caso de que haya algún tipo de ordinalidad se realiza el procedimiento respetando la misma."
      ],
      "metadata": {
        "id": "zfEESl45D4YF"
      }
    },
    {
      "cell_type": "markdown",
      "source": [
        "Para ello el enfoque más sencillo es reemplazar cada etiqueta / categoría por algún número ordinal basado en los rangos. \n",
        "\n",
        "Implementación:\n",
        "\n",
        "Paso 1: Cree un diccionario con clave como categoría y valores con su rango.\n",
        "\n",
        "Paso 2: Cree una nueva columna y asigne la columna ordinal con el diccionario creado.\n",
        "\n",
        "Paso 3: suelte la columna original.\n",
        "\n",
        "Estos pasos anteriores se ralizan para cada variable"
      ],
      "metadata": {
        "id": "ImUqshvZEhWw"
      }
    },
    {
      "cell_type": "code",
      "source": [
        "# job\n",
        "# 1. \n",
        "jobdict =   {   'admin.':1,\n",
        "                    'unknown':2,\n",
        "                     'unemployed':3,\n",
        "                     'management':4,\n",
        "                     'housemaid':5,\n",
        "                    'entrepreneur':6,\n",
        "                    'student':7,\n",
        "                    'blue-collar':8,\n",
        "                    'self-employed':9,\n",
        "                    'retired':10,\n",
        "                    'technician':11,\n",
        "                    'services':12,                \n",
        "                }\n",
        "# 2. \n",
        "bank_df['ordinal_job'] = bank_df.job.map(jobdict)\n",
        "# Display result\n",
        "      \n",
        "bank_df[['age', 'job', 'ordinal_job']].head(10)\n",
        "# 3.\n",
        "bank_df = bank_df.drop('job', axis = 1)"
      ],
      "metadata": {
        "id": "VbN2uE2UFEPI"
      },
      "execution_count": 119,
      "outputs": []
    },
    {
      "cell_type": "code",
      "source": [
        "# marital\n",
        "# 1. \n",
        "maritaldict =   {   'married':1,\n",
        "                    'divorced':2,\n",
        "                     'single':3,              \n",
        "                }\n",
        "# 2. \n",
        "bank_df['ordinal_marital'] = bank_df.marital.map(maritaldict)\n",
        "# Display result\n",
        "      \n",
        "bank_df[['age', 'marital', 'ordinal_marital']].head(10)\n",
        "# 3.\n",
        "bank_df = bank_df.drop('marital', axis = 1)"
      ],
      "metadata": {
        "id": "-6LS5mPFEUVX"
      },
      "execution_count": 120,
      "outputs": []
    },
    {
      "cell_type": "code",
      "source": [
        "# education\n",
        "# 1. \n",
        "educationdict =   {   'unknown':1,\n",
        "                    'secondary':2,\n",
        "                     'primary':3,\n",
        "                    'tertiary':4,              \n",
        "                }\n",
        "# 2. \n",
        "bank_df['ordinal_education'] = bank_df.education.map(educationdict)\n",
        "# Display result\n",
        "      \n",
        "bank_df[['age', 'education', 'ordinal_education']].head(10)\n",
        "# 3.\n",
        "bank_df = bank_df.drop('education', axis = 1)"
      ],
      "metadata": {
        "id": "TywUScAbIJ-I"
      },
      "execution_count": 121,
      "outputs": []
    },
    {
      "cell_type": "code",
      "source": [
        "# contact\n",
        "# 1. \n",
        "contactdict =   {   'unknown':1,\n",
        "                    'telephone':2,\n",
        "                     'cellular':3,           \n",
        "                }\n",
        "# 2. \n",
        "bank_df['ordinal_contact'] = bank_df.contact.map(contactdict)\n",
        "# Display result\n",
        "      \n",
        "bank_df[['age', 'contact', 'ordinal_contact']].head(10)\n",
        "# 3.\n",
        "bank_df = bank_df.drop('contact', axis = 1)"
      ],
      "metadata": {
        "id": "dCgGeB0mK4aD"
      },
      "execution_count": 122,
      "outputs": []
    },
    {
      "cell_type": "code",
      "source": [
        "# month\n",
        "# 1. \n",
        "monthdict =   {   'jan':1,\n",
        "                    'feb':2,\n",
        "                     'mar':3,\n",
        "                     'apr':4,\n",
        "                     'may':5,\n",
        "                    'jun':6,\n",
        "                    'jul':7,\n",
        "                    'aug':8,\n",
        "                    'sep':9,\n",
        "                    'oct':10,\n",
        "                    'nov':11,\n",
        "                    'dec':12,                \n",
        "                }\n",
        "# 2. \n",
        "bank_df['ordinal_month'] = bank_df.month.map(monthdict)\n",
        "# Display result\n",
        "      \n",
        "bank_df[['age', 'month', 'ordinal_month']].head(10)\n",
        "# 3.\n",
        "bank_df = bank_df.drop('month', axis = 1)"
      ],
      "metadata": {
        "id": "GSXwMWPVLoKg"
      },
      "execution_count": 123,
      "outputs": []
    },
    {
      "cell_type": "code",
      "source": [
        "# poutcome\n",
        "# 1. \n",
        "poutcomedict =   {   'unknown':1,\n",
        "                    'other':2,\n",
        "                     'failure':3,\n",
        "                    'success':4,              \n",
        "                }\n",
        "# 2. \n",
        "bank_df['ordinal_poutcome'] = bank_df.poutcome.map(poutcomedict)\n",
        "# Display result\n",
        "      \n",
        "bank_df[['age', 'poutcome', 'ordinal_poutcome']].head(10)\n",
        "# 3.\n",
        "bank_df = bank_df.drop('poutcome', axis = 1)"
      ],
      "metadata": {
        "id": "4Hw2J2JnMv0V"
      },
      "execution_count": 124,
      "outputs": []
    },
    {
      "cell_type": "code",
      "source": [
        "bank_df.head()"
      ],
      "metadata": {
        "colab": {
          "base_uri": "https://localhost:8080/",
          "height": 270
        },
        "id": "Qhuk7v1KH9XD",
        "outputId": "c4ad819b-e484-4e42-ee2d-e11a7df65e87"
      },
      "execution_count": 125,
      "outputs": [
        {
          "output_type": "execute_result",
          "data": {
            "text/plain": [
              "   age  balance  day  duration  campaign  pdays  previous  default_yes  \\\n",
              "0   58     2143    5       261         1     -1         0            0   \n",
              "1   44       29    5       151         1     -1         0            0   \n",
              "2   33        2    5        76         1     -1         0            0   \n",
              "3   47     1506    5        92         1     -1         0            0   \n",
              "4   33        1    5       198         1     -1         0            0   \n",
              "\n",
              "   housing_yes  loan_yes  y_yes  ordinal_job  ordinal_marital  \\\n",
              "0            1         0      0            4                1   \n",
              "1            1         0      0           11                3   \n",
              "2            1         1      0            6                1   \n",
              "3            1         0      0            8                1   \n",
              "4            0         0      0            2                3   \n",
              "\n",
              "   ordinal_education  ordinal_contact  ordinal_month  ordinal_poutcome  \n",
              "0                  4                1              5                 1  \n",
              "1                  2                1              5                 1  \n",
              "2                  2                1              5                 1  \n",
              "3                  1                1              5                 1  \n",
              "4                  1                1              5                 1  "
            ],
            "text/html": [
              "\n",
              "  <div id=\"df-05325298-27dc-479d-a8bc-8fde31f367fa\">\n",
              "    <div class=\"colab-df-container\">\n",
              "      <div>\n",
              "<style scoped>\n",
              "    .dataframe tbody tr th:only-of-type {\n",
              "        vertical-align: middle;\n",
              "    }\n",
              "\n",
              "    .dataframe tbody tr th {\n",
              "        vertical-align: top;\n",
              "    }\n",
              "\n",
              "    .dataframe thead th {\n",
              "        text-align: right;\n",
              "    }\n",
              "</style>\n",
              "<table border=\"1\" class=\"dataframe\">\n",
              "  <thead>\n",
              "    <tr style=\"text-align: right;\">\n",
              "      <th></th>\n",
              "      <th>age</th>\n",
              "      <th>balance</th>\n",
              "      <th>day</th>\n",
              "      <th>duration</th>\n",
              "      <th>campaign</th>\n",
              "      <th>pdays</th>\n",
              "      <th>previous</th>\n",
              "      <th>default_yes</th>\n",
              "      <th>housing_yes</th>\n",
              "      <th>loan_yes</th>\n",
              "      <th>y_yes</th>\n",
              "      <th>ordinal_job</th>\n",
              "      <th>ordinal_marital</th>\n",
              "      <th>ordinal_education</th>\n",
              "      <th>ordinal_contact</th>\n",
              "      <th>ordinal_month</th>\n",
              "      <th>ordinal_poutcome</th>\n",
              "    </tr>\n",
              "  </thead>\n",
              "  <tbody>\n",
              "    <tr>\n",
              "      <th>0</th>\n",
              "      <td>58</td>\n",
              "      <td>2143</td>\n",
              "      <td>5</td>\n",
              "      <td>261</td>\n",
              "      <td>1</td>\n",
              "      <td>-1</td>\n",
              "      <td>0</td>\n",
              "      <td>0</td>\n",
              "      <td>1</td>\n",
              "      <td>0</td>\n",
              "      <td>0</td>\n",
              "      <td>4</td>\n",
              "      <td>1</td>\n",
              "      <td>4</td>\n",
              "      <td>1</td>\n",
              "      <td>5</td>\n",
              "      <td>1</td>\n",
              "    </tr>\n",
              "    <tr>\n",
              "      <th>1</th>\n",
              "      <td>44</td>\n",
              "      <td>29</td>\n",
              "      <td>5</td>\n",
              "      <td>151</td>\n",
              "      <td>1</td>\n",
              "      <td>-1</td>\n",
              "      <td>0</td>\n",
              "      <td>0</td>\n",
              "      <td>1</td>\n",
              "      <td>0</td>\n",
              "      <td>0</td>\n",
              "      <td>11</td>\n",
              "      <td>3</td>\n",
              "      <td>2</td>\n",
              "      <td>1</td>\n",
              "      <td>5</td>\n",
              "      <td>1</td>\n",
              "    </tr>\n",
              "    <tr>\n",
              "      <th>2</th>\n",
              "      <td>33</td>\n",
              "      <td>2</td>\n",
              "      <td>5</td>\n",
              "      <td>76</td>\n",
              "      <td>1</td>\n",
              "      <td>-1</td>\n",
              "      <td>0</td>\n",
              "      <td>0</td>\n",
              "      <td>1</td>\n",
              "      <td>1</td>\n",
              "      <td>0</td>\n",
              "      <td>6</td>\n",
              "      <td>1</td>\n",
              "      <td>2</td>\n",
              "      <td>1</td>\n",
              "      <td>5</td>\n",
              "      <td>1</td>\n",
              "    </tr>\n",
              "    <tr>\n",
              "      <th>3</th>\n",
              "      <td>47</td>\n",
              "      <td>1506</td>\n",
              "      <td>5</td>\n",
              "      <td>92</td>\n",
              "      <td>1</td>\n",
              "      <td>-1</td>\n",
              "      <td>0</td>\n",
              "      <td>0</td>\n",
              "      <td>1</td>\n",
              "      <td>0</td>\n",
              "      <td>0</td>\n",
              "      <td>8</td>\n",
              "      <td>1</td>\n",
              "      <td>1</td>\n",
              "      <td>1</td>\n",
              "      <td>5</td>\n",
              "      <td>1</td>\n",
              "    </tr>\n",
              "    <tr>\n",
              "      <th>4</th>\n",
              "      <td>33</td>\n",
              "      <td>1</td>\n",
              "      <td>5</td>\n",
              "      <td>198</td>\n",
              "      <td>1</td>\n",
              "      <td>-1</td>\n",
              "      <td>0</td>\n",
              "      <td>0</td>\n",
              "      <td>0</td>\n",
              "      <td>0</td>\n",
              "      <td>0</td>\n",
              "      <td>2</td>\n",
              "      <td>3</td>\n",
              "      <td>1</td>\n",
              "      <td>1</td>\n",
              "      <td>5</td>\n",
              "      <td>1</td>\n",
              "    </tr>\n",
              "  </tbody>\n",
              "</table>\n",
              "</div>\n",
              "      <button class=\"colab-df-convert\" onclick=\"convertToInteractive('df-05325298-27dc-479d-a8bc-8fde31f367fa')\"\n",
              "              title=\"Convert this dataframe to an interactive table.\"\n",
              "              style=\"display:none;\">\n",
              "        \n",
              "  <svg xmlns=\"http://www.w3.org/2000/svg\" height=\"24px\"viewBox=\"0 0 24 24\"\n",
              "       width=\"24px\">\n",
              "    <path d=\"M0 0h24v24H0V0z\" fill=\"none\"/>\n",
              "    <path d=\"M18.56 5.44l.94 2.06.94-2.06 2.06-.94-2.06-.94-.94-2.06-.94 2.06-2.06.94zm-11 1L8.5 8.5l.94-2.06 2.06-.94-2.06-.94L8.5 2.5l-.94 2.06-2.06.94zm10 10l.94 2.06.94-2.06 2.06-.94-2.06-.94-.94-2.06-.94 2.06-2.06.94z\"/><path d=\"M17.41 7.96l-1.37-1.37c-.4-.4-.92-.59-1.43-.59-.52 0-1.04.2-1.43.59L10.3 9.45l-7.72 7.72c-.78.78-.78 2.05 0 2.83L4 21.41c.39.39.9.59 1.41.59.51 0 1.02-.2 1.41-.59l7.78-7.78 2.81-2.81c.8-.78.8-2.07 0-2.86zM5.41 20L4 18.59l7.72-7.72 1.47 1.35L5.41 20z\"/>\n",
              "  </svg>\n",
              "      </button>\n",
              "      \n",
              "  <style>\n",
              "    .colab-df-container {\n",
              "      display:flex;\n",
              "      flex-wrap:wrap;\n",
              "      gap: 12px;\n",
              "    }\n",
              "\n",
              "    .colab-df-convert {\n",
              "      background-color: #E8F0FE;\n",
              "      border: none;\n",
              "      border-radius: 50%;\n",
              "      cursor: pointer;\n",
              "      display: none;\n",
              "      fill: #1967D2;\n",
              "      height: 32px;\n",
              "      padding: 0 0 0 0;\n",
              "      width: 32px;\n",
              "    }\n",
              "\n",
              "    .colab-df-convert:hover {\n",
              "      background-color: #E2EBFA;\n",
              "      box-shadow: 0px 1px 2px rgba(60, 64, 67, 0.3), 0px 1px 3px 1px rgba(60, 64, 67, 0.15);\n",
              "      fill: #174EA6;\n",
              "    }\n",
              "\n",
              "    [theme=dark] .colab-df-convert {\n",
              "      background-color: #3B4455;\n",
              "      fill: #D2E3FC;\n",
              "    }\n",
              "\n",
              "    [theme=dark] .colab-df-convert:hover {\n",
              "      background-color: #434B5C;\n",
              "      box-shadow: 0px 1px 3px 1px rgba(0, 0, 0, 0.15);\n",
              "      filter: drop-shadow(0px 1px 2px rgba(0, 0, 0, 0.3));\n",
              "      fill: #FFFFFF;\n",
              "    }\n",
              "  </style>\n",
              "\n",
              "      <script>\n",
              "        const buttonEl =\n",
              "          document.querySelector('#df-05325298-27dc-479d-a8bc-8fde31f367fa button.colab-df-convert');\n",
              "        buttonEl.style.display =\n",
              "          google.colab.kernel.accessAllowed ? 'block' : 'none';\n",
              "\n",
              "        async function convertToInteractive(key) {\n",
              "          const element = document.querySelector('#df-05325298-27dc-479d-a8bc-8fde31f367fa');\n",
              "          const dataTable =\n",
              "            await google.colab.kernel.invokeFunction('convertToInteractive',\n",
              "                                                     [key], {});\n",
              "          if (!dataTable) return;\n",
              "\n",
              "          const docLinkHtml = 'Like what you see? Visit the ' +\n",
              "            '<a target=\"_blank\" href=https://colab.research.google.com/notebooks/data_table.ipynb>data table notebook</a>'\n",
              "            + ' to learn more about interactive tables.';\n",
              "          element.innerHTML = '';\n",
              "          dataTable['output_type'] = 'display_data';\n",
              "          await google.colab.output.renderOutput(dataTable, element);\n",
              "          const docLink = document.createElement('div');\n",
              "          docLink.innerHTML = docLinkHtml;\n",
              "          element.appendChild(docLink);\n",
              "        }\n",
              "      </script>\n",
              "    </div>\n",
              "  </div>\n",
              "  "
            ]
          },
          "metadata": {},
          "execution_count": 125
        }
      ]
    },
    {
      "cell_type": "markdown",
      "source": [
        "Se observan si existe alguna correlación lineal de las variables con la variable objetivo"
      ],
      "metadata": {
        "id": "qVLw7jg_QKwp"
      }
    },
    {
      "cell_type": "code",
      "execution_count": 126,
      "metadata": {
        "colab": {
          "base_uri": "https://localhost:8080/"
        },
        "id": "en2nH6f-jfNn",
        "outputId": "86b3143b-9ba6-443c-d44d-93503bf456b2"
      },
      "outputs": [
        {
          "output_type": "stream",
          "name": "stdout",
          "text": [
            "age                  0.025155\n",
            "balance              0.052838\n",
            "day                 -0.028348\n",
            "duration             0.394521\n",
            "campaign            -0.073172\n",
            "pdays                0.103621\n",
            "previous             0.093236\n",
            "default_yes         -0.022419\n",
            "housing_yes         -0.139173\n",
            "loan_yes            -0.068185\n",
            "y_yes                1.000000\n",
            "ordinal_job         -0.024649\n",
            "ordinal_marital      0.065668\n",
            "ordinal_education    0.046539\n",
            "ordinal_contact      0.148395\n",
            "ordinal_month        0.018717\n",
            "ordinal_poutcome     0.221128\n",
            "dtype: float64\n"
          ]
        }
      ],
      "source": [
        "print(bank_df.corrwith(bank_df.y_yes))"
      ]
    },
    {
      "cell_type": "markdown",
      "source": [
        "Se puede ver que hay una correlación media directa con 'duration' y sueve con las variables 'pdays', 'ordinal_contact' y 'ordinal_poutcome'.\n",
        "\n",
        "Se grafica la matriz de correlación entre todas las varialbes para visualizar de forma gráfica si existe algún tipo de dependencia lineal entre las variables."
      ],
      "metadata": {
        "id": "WRMMffL2QZUz"
      }
    },
    {
      "cell_type": "code",
      "execution_count": 127,
      "metadata": {
        "colab": {
          "base_uri": "https://localhost:8080/",
          "height": 747
        },
        "id": "d-GMYxOolJx1",
        "outputId": "45ac31bd-41ed-489c-fa58-4c5443490cfb"
      },
      "outputs": [
        {
          "output_type": "execute_result",
          "data": {
            "text/plain": [
              "<seaborn.matrix.ClusterGrid at 0x7fe84cd69510>"
            ]
          },
          "metadata": {},
          "execution_count": 127
        },
        {
          "output_type": "display_data",
          "data": {
            "text/plain": [
              "<Figure size 720x720 with 4 Axes>"
            ],
            "image/png": "[encoded data removed]"
          },
          "metadata": {
            "needs_background": "light"
          }
        }
      ],
      "source": [
        "corr = bank_df.corr()\n",
        "\n",
        "cg = sns.clustermap(corr.fillna(0), cmap ='coolwarm', linewidths = 0.2,\n",
        "                    method = 'complete', xticklabels=1,figsize = (10,10)) \n",
        "cg"
      ]
    },
    {
      "cell_type": "markdown",
      "source": [
        "Se observa una dependencia lineal entre las variables 'previous', 'pdays' y 'ordinal_outcome'. Además hay una relación lineal entre 'duration' y 'y_yes'."
      ],
      "metadata": {
        "id": "IM1xvVNSac_0"
      }
    },
    {
      "cell_type": "markdown",
      "metadata": {
        "id": "P5VU3CpxqRAh"
      },
      "source": [
        "#A continuación se realiza el desarrollo de los modelos de predicción"
      ]
    },
    {
      "cell_type": "markdown",
      "source": [
        "Dado que el problema al que nos enfrentamos es de clasificación binaria es que se aplicarán algunos modelos de aprendizaje supervisado de clasificación. En este caso se utilizarán dos modelos sencillos pero que tienen muy buenos resultados para el tipo de datos que disponemos."
      ],
      "metadata": {
        "id": "jK1sX8FUOzCF"
      }
    },
    {
      "cell_type": "markdown",
      "source": [
        "#**Árboles de Decisión**"
      ],
      "metadata": {
        "id": "2c_I4l1ucL27"
      }
    },
    {
      "cell_type": "markdown",
      "source": [
        "Los árboles de decisión son modelos predictivos formados por reglas binarias (si/no) con las que se consigue repartir las observaciones en función de sus atributos y predecir así el valor de la variable respuesta."
      ],
      "metadata": {
        "id": "7ePtwYUAcdQ5"
      }
    },
    {
      "cell_type": "markdown",
      "metadata": {
        "id": "8M5ua2VaqRbw"
      },
      "source": [
        "**Se selecciona la variable a predecir**\n",
        "\n",
        "La variable objetivo es \"y_yes\" "
      ]
    },
    {
      "cell_type": "code",
      "execution_count": 128,
      "metadata": {
        "id": "iFS8Tz7rqUn4"
      },
      "outputs": [],
      "source": [
        "y = bank_df.y_yes"
      ]
    },
    {
      "cell_type": "markdown",
      "metadata": {
        "id": "KtXGu-Suqcy3"
      },
      "source": [
        "**Se seleccionan las \"Features\"**\n",
        "\n",
        "En este momento se eligen cuales son las variables que se utilizaran para realizar la predicción en el modelo. Se puede trabajar con todas las variables o algunas veces se seleccionan las que se consideran más relevantes.\n",
        "Para este caso se utilizan todas las variables excepto Id y T_AB."
      ]
    },
    {
      "cell_type": "code",
      "execution_count": 129,
      "metadata": {
        "id": "QmynZwGuqdq3"
      },
      "outputs": [],
      "source": [
        "bank_features = bank_df.drop(['y_yes'], axis=1)"
      ]
    },
    {
      "cell_type": "markdown",
      "metadata": {
        "id": "Hf5zDAiArDXz"
      },
      "source": [
        "#**Se Construye el Modelo**\n",
        "\n",
        "Para ello se utiliza la librería **scikit-learn**. Al realizar la codificación es escrita como **sklearn**.\n",
        "\n",
        "Los pasos que se utilizan para construir el modelo son:\n",
        "\n",
        "**Definición:** Que tipo de modelo se usará? Se definen los parámetros del modelo seleccionado.\n",
        "\n",
        "**Fit (Ajuste):** Se \"capturan\" patrones de los datos provistos. Es la parte esencial del modelado.\n",
        "\n",
        "**Predicción:** Es la predicción literal del modelo.\n",
        "\n",
        "**Evaluación:** Se determina la precisión del modelo con los datos de validación."
      ]
    },
    {
      "cell_type": "markdown",
      "metadata": {
        "id": "RKD2ILbvrPcF"
      },
      "source": [
        "Se dividen los datos en dos conjuntos, uno de entrenamiento y otro de validación del modelo. De esta menera se corrobora que el modelo es válido para predecir con nuevos datos."
      ]
    },
    {
      "cell_type": "markdown",
      "metadata": {
        "id": "UuIDaRSLrUlE"
      },
      "source": [
        "## **Aplicación del Modelo**"
      ]
    },
    {
      "cell_type": "code",
      "execution_count": 130,
      "metadata": {
        "id": "Ug8VHjr8rI4N"
      },
      "outputs": [],
      "source": [
        "# Se descargan las librerías y complementos necesarios\n",
        "\n",
        "from sklearn.tree import DecisionTreeClassifier\n",
        "from sklearn.model_selection import train_test_split\n",
        "from sklearn.metrics import accuracy_score\n",
        "np.random.seed(0)\n"
      ]
    },
    {
      "cell_type": "markdown",
      "metadata": {
        "id": "zGvjXqX9rgp-"
      },
      "source": [
        "Se separan los conjuntos de entrenamiento y prueba"
      ]
    },
    {
      "cell_type": "code",
      "execution_count": 131,
      "metadata": {
        "id": "kNK0NuS6rksO"
      },
      "outputs": [],
      "source": [
        "train_X, val_X, train_y, val_y = train_test_split(bank_features, y, test_size=0.2, random_state = 0)"
      ]
    },
    {
      "cell_type": "markdown",
      "metadata": {
        "id": "hwwvZTUcr19G"
      },
      "source": [
        "Antes de entrenar el modelo, se utiliza un GridSearch para encontrar los hiperparámetros `max_depth` y `max_leaf_nodes` óptimos.\n",
        "\n",
        "Además se realiza un ajuste de parámetros para intentar equilibrar a la clase minoritaria penalizando a la clase mayoritaria durante el entrenamiento. Para nuestro caso utilizaremos el parámetro class_weight= “balanced”. Cabe mencionar que no todos los algoritmos tienen estas posibilidades."
      ]
    },
    {
      "cell_type": "code",
      "execution_count": 132,
      "metadata": {
        "colab": {
          "base_uri": "https://localhost:8080/"
        },
        "id": "Jmf9cG5br20d",
        "outputId": "6fd0307a-434c-4ea0-c629-c352b6b25c57"
      },
      "outputs": [
        {
          "output_type": "stream",
          "name": "stdout",
          "text": [
            "{'max_depth': 6, 'max_leaf_nodes': 19}\n",
            "\n",
            "DecisionTreeClassifier(class_weight='balanced', max_depth=6, max_leaf_nodes=19,\n",
            "                       random_state=42)\n"
          ]
        }
      ],
      "source": [
        "from sklearn.model_selection import GridSearchCV\n",
        "from sklearn.tree import DecisionTreeClassifier\n",
        "\n",
        "grid_param = {'max_depth':np.arange(2,20), 'max_leaf_nodes':np.arange(2,20)}\n",
        "\n",
        "dt = DecisionTreeClassifier(random_state=42, class_weight=\"balanced\")\n",
        "\n",
        "grid = GridSearchCV(dt, grid_param , n_jobs=-1, cv=5)\n",
        "\n",
        "grid.fit(train_X,train_y)\n",
        "print(grid.best_params_)\n",
        "print(\"\")\n",
        "print(grid.best_estimator_)"
      ]
    },
    {
      "cell_type": "markdown",
      "source": [
        "Se encuentra que el mejor modelo es el que tiene max deph = 6, max leaf nodes = 19 y el random states = 42. Con estos valores se realiza la predicción."
      ],
      "metadata": {
        "id": "POkwD3T2ulCw"
      }
    },
    {
      "cell_type": "code",
      "source": [
        "# Se elege como modelo el mejor estimador encontrado anteriormente\n",
        "model = grid.best_estimator_\n",
        "\n",
        "# Se Entrena el modelo\n",
        "model.fit(train_X,train_y) "
      ],
      "metadata": {
        "colab": {
          "base_uri": "https://localhost:8080/"
        },
        "id": "8iKbF4D8upI1",
        "outputId": "c0cf6b6b-8deb-4fc2-f0d5-8cce44ea246d"
      },
      "execution_count": 133,
      "outputs": [
        {
          "output_type": "execute_result",
          "data": {
            "text/plain": [
              "DecisionTreeClassifier(class_weight='balanced', max_depth=6, max_leaf_nodes=19,\n",
              "                       random_state=42)"
            ]
          },
          "metadata": {},
          "execution_count": 133
        }
      ]
    },
    {
      "cell_type": "markdown",
      "source": [
        "A continuación se calcula cual es la importancia de cada predictor en el modelo. Ésta se calcula como la reducción total (normalizada) en el criterio de división, en este caso el índice Gini, que consigue el predictor en las divisiones en las que participa. Si un predictor no ha sido seleccionado en ninguna divisón, no se ha incluido en el modelo y por lo tanto su importancia es 0."
      ],
      "metadata": {
        "id": "ltH-7ZwuuyIP"
      }
    },
    {
      "cell_type": "code",
      "source": [
        "model.feature_importances_"
      ],
      "metadata": {
        "colab": {
          "base_uri": "https://localhost:8080/"
        },
        "id": "pNeLaRUJuy-m",
        "outputId": "76e89c3a-dbca-43ac-8199-53b377253964"
      },
      "execution_count": 134,
      "outputs": [
        {
          "output_type": "execute_result",
          "data": {
            "text/plain": [
              "array([0.0097331 , 0.        , 0.00762394, 0.56424044, 0.        ,\n",
              "       0.00994849, 0.        , 0.        , 0.06719111, 0.01272875,\n",
              "       0.        , 0.        , 0.        , 0.12458953, 0.05356575,\n",
              "       0.1503789 ])"
            ]
          },
          "metadata": {},
          "execution_count": 134
        }
      ]
    },
    {
      "cell_type": "markdown",
      "source": [
        "De los resultados anteriores se puede concluir que para el modelo las variables 'duration', 'ordinal_contact' y 'ordinal_poutcome' son las que más relevancia tienen para la predicción. Es decir,la duración de la llamada y el resutado de la campaña anterior."
      ],
      "metadata": {
        "id": "OY4PXwR1u-GE"
      }
    },
    {
      "cell_type": "markdown",
      "source": [
        "# Visualización del output del modelo"
      ],
      "metadata": {
        "id": "UAv_yVZYvcF9"
      }
    },
    {
      "cell_type": "markdown",
      "source": [
        "Con la visualización del modelo el objetivo es obtener una métrica que nos permita conocer y evaluar que tan bueno es nuestro modelo para predecir.\n",
        "Esto se realiza a traves del informe de clasificación y la evaluación del área bajo la curva ROC (AUC)."
      ],
      "metadata": {
        "id": "QqKIxeCuVORu"
      }
    },
    {
      "cell_type": "code",
      "source": [
        "# Confusion Matrix y Reporte\n",
        "from sklearn.metrics import confusion_matrix\n",
        "from sklearn.metrics import classification_report\n",
        "\n",
        "# Se obtienen algunas predicciones para evaluar el rendimiento del modelo\n",
        "y_fit = model.predict(val_X)\n",
        "\n",
        "print(classification_report(val_y,y_fit))\n",
        "\n",
        "cm = confusion_matrix(val_y,y_fit)\n",
        "\n",
        "plt.figure(figsize=(6,6))\n",
        "sns.heatmap(cm.T ,square=True , annot=True, cbar=False, xticklabels=True)\n",
        "plt.xlabel('Clases Verdaderas')\n",
        "plt.ylabel('Clases Predichas')"
      ],
      "metadata": {
        "colab": {
          "base_uri": "https://localhost:8080/",
          "height": 562
        },
        "id": "-IJO4efSvkhD",
        "outputId": "a753b586-686e-4857-bf6e-838b9feaeb57"
      },
      "execution_count": 135,
      "outputs": [
        {
          "output_type": "stream",
          "name": "stdout",
          "text": [
            "              precision    recall  f1-score   support\n",
            "\n",
            "           0       0.97      0.79      0.88      7980\n",
            "           1       0.35      0.84      0.49      1063\n",
            "\n",
            "    accuracy                           0.80      9043\n",
            "   macro avg       0.66      0.82      0.69      9043\n",
            "weighted avg       0.90      0.80      0.83      9043\n",
            "\n"
          ]
        },
        {
          "output_type": "execute_result",
          "data": {
            "text/plain": [
              "Text(40.82000000000001, 0.5, 'Clases Predichas')"
            ]
          },
          "metadata": {},
          "execution_count": 135
        },
        {
          "output_type": "display_data",
          "data": {
            "text/plain": [
              "<Figure size 432x432 with 1 Axes>"
            ],
            "image/png": "[encoded data removed]"
          },
          "metadata": {
            "needs_background": "light"
          }
        }
      ]
    },
    {
      "cell_type": "markdown",
      "source": [
        "El valor de precisión del modelo es de 80%.\n",
        "Si se mira en detalle reporte de clasificación se puede ver que el modelo es capaz de detectar los casos en que el cliente se suscribe a una cuenta de banco (recall alto), aunque el modelo no es tan confiable (precision 0.35) para detectar si dicho punto pertenece a esa clase y un f1 score aceptable, siempre refiriendonos al caso en que la clase toma valor 1. En el caso de la clase negativa (cuando el cliente no se suscribe a la cuenta de banco) el modelo es muy bueno para identificarlas dando todos los valores muy bien."
      ],
      "metadata": {
        "id": "qE82gyk_v0Qb"
      }
    },
    {
      "cell_type": "markdown",
      "source": [
        "Se realiza el calculo de la curva ROC.\n",
        "ROC es una curva de probabilidad para diferentes clases la cual nos dice qué tan bueno es el modelo para distinguir las clases dadas, en términos de la probabilidad predicha.\n",
        "\n",
        "El área cubierta por la curva es el área entre la línea naranja (ROC) y el eje. Esta área cubierta es AUC. Cuanto mayor sea el área cubierta, mejores serán los modelos de Machine Learning para distinguir las clases dadas. El valor ideal para AUC es 1."
      ],
      "metadata": {
        "id": "RjW1LiJ-ws3S"
      }
    },
    {
      "cell_type": "code",
      "source": [
        "from sklearn.metrics import roc_curve\n",
        "from sklearn.metrics import roc_auc_score"
      ],
      "metadata": {
        "id": "Xy_8ZcSf34Mx"
      },
      "execution_count": 136,
      "outputs": []
    },
    {
      "cell_type": "markdown",
      "source": [
        "Definición de una función de Python para trazar las curvas ROC."
      ],
      "metadata": {
        "id": "_R7qNSls9sot"
      }
    },
    {
      "cell_type": "code",
      "source": [
        "def plot_roc_curve(fpr, tpr):\n",
        "    plt.plot(fpr, tpr, color=\"orange\", label=\"ROC\")\n",
        "    plt.plot([0, 1], [0, 1], color=\"darkblue\", linestyle=\"--\")\n",
        "    plt.xlabel('Tasa de Falsos Positivos')\n",
        "    plt.ylabel('Tasa de Verdaderos Positivos')\n",
        "    plt.title('Curva ROC')\n",
        "    plt.legend()\n",
        "    plt.show()"
      ],
      "metadata": {
        "id": "_Jx5Zgd73Eyt"
      },
      "execution_count": 137,
      "outputs": []
    },
    {
      "cell_type": "markdown",
      "source": [
        "Predecir probabilidades para los datos de prueba."
      ],
      "metadata": {
        "id": "HtmoaB9i-XTE"
      }
    },
    {
      "cell_type": "code",
      "source": [
        "probs = model.predict_proba(val_X)"
      ],
      "metadata": {
        "id": "Z6tiQEZx-nTw"
      },
      "execution_count": 138,
      "outputs": []
    },
    {
      "cell_type": "markdown",
      "source": [
        "Mantenga solo las probabilidades de la clase positiva"
      ],
      "metadata": {
        "id": "oj7Z-5-N-vRk"
      }
    },
    {
      "cell_type": "code",
      "source": [
        "probs = probs[:, 1]"
      ],
      "metadata": {
        "id": "LuxGRAyw-wEN"
      },
      "execution_count": 139,
      "outputs": []
    },
    {
      "cell_type": "markdown",
      "source": [
        "Calcule la puntuación AUC"
      ],
      "metadata": {
        "id": "8XUTLLzW-23n"
      }
    },
    {
      "cell_type": "code",
      "source": [
        "auc = roc_auc_score(val_y, probs)\n",
        "print('AUC: %.2f' % auc)"
      ],
      "metadata": {
        "colab": {
          "base_uri": "https://localhost:8080/"
        },
        "id": "-LI10tcU-3ZB",
        "outputId": "98e7bb97-4527-46db-eb4a-fc1f9673c35f"
      },
      "execution_count": 140,
      "outputs": [
        {
          "output_type": "stream",
          "name": "stdout",
          "text": [
            "AUC: 0.87\n"
          ]
        }
      ]
    },
    {
      "cell_type": "markdown",
      "source": [
        "Se obtiene un valor del área bajo la curva de 0.87 de un máximo ideal de 1, por lo cual se puede decir que es una buena predicción."
      ],
      "metadata": {
        "id": "Qhrs-KSvXaOg"
      }
    },
    {
      "cell_type": "markdown",
      "source": [
        "Obtenga la curva ROC"
      ],
      "metadata": {
        "id": "4rDlR9a1hH_G"
      }
    },
    {
      "cell_type": "code",
      "source": [
        "fpr, tpr, thresholds = roc_curve(val_y, probs)"
      ],
      "metadata": {
        "id": "VS9wBuDlhIvz"
      },
      "execution_count": 141,
      "outputs": []
    },
    {
      "cell_type": "markdown",
      "source": [
        "Trace la curva ROC usando nuestra función definida"
      ],
      "metadata": {
        "id": "1jdzDOo1hJVA"
      }
    },
    {
      "cell_type": "code",
      "source": [
        "plot_roc_curve(fpr, tpr)"
      ],
      "metadata": {
        "colab": {
          "base_uri": "https://localhost:8080/",
          "height": 622
        },
        "id": "JIUb3OeUhJ8J",
        "outputId": "ae9417ae-1810-43c9-8112-0a8ab14690e5"
      },
      "execution_count": 142,
      "outputs": [
        {
          "output_type": "display_data",
          "data": {
            "text/plain": [
              "<Figure size 1152x720 with 1 Axes>"
            ],
            "image/png": "[encoded data removed]"
          },
          "metadata": {
            "needs_background": "light"
          }
        }
      ]
    },
    {
      "cell_type": "markdown",
      "source": [
        "A continuación se raliza la gráfica del árbol obtenido"
      ],
      "metadata": {
        "id": "qgVX2pt9ZhDS"
      }
    },
    {
      "cell_type": "code",
      "source": [
        "from sklearn import tree\n",
        "tree.plot_tree(model)"
      ],
      "metadata": {
        "colab": {
          "base_uri": "https://localhost:8080/",
          "height": 1000
        },
        "id": "BngyiyyEZl5s",
        "outputId": "874bacf9-0d95-4704-8b0b-3a05e4417901"
      },
      "execution_count": 143,
      "outputs": [
        {
          "output_type": "execute_result",
          "data": {
            "text/plain": [
              "[Text(0.4880952380952381, 0.9285714285714286, 'X[3] <= 205.5\\ngini = 0.5\\nsamples = 36168\\nvalue = [18084.0, 18084.0]'),\n",
              " Text(0.23809523809523808, 0.7857142857142857, 'X[15] <= 3.5\\ngini = 0.345\\nsamples = 20378\\nvalue = [11118.076, 3166.626]'),\n",
              " Text(0.19047619047619047, 0.6428571428571429, 'X[14] <= 4.5\\ngini = 0.288\\nsamples = 19939\\nvalue = [10982.2, 2315.06]'),\n",
              " Text(0.09523809523809523, 0.5, 'X[3] <= 87.5\\ngini = 0.486\\nsamples = 3018\\nvalue = [1562.011, 1108.319]'),\n",
              " Text(0.047619047619047616, 0.35714285714285715, 'gini = 0.208\\nsamples = 981\\nvalue = [545.77, 72.747]'),\n",
              " Text(0.14285714285714285, 0.35714285714285715, 'X[8] <= 0.5\\ngini = 0.5\\nsamples = 2037\\nvalue = [1016.241, 1035.572]'),\n",
              " Text(0.09523809523809523, 0.21428571428571427, 'X[2] <= 27.5\\ngini = 0.464\\nsamples = 1020\\nvalue = [469.905, 813.053]'),\n",
              " Text(0.047619047619047616, 0.07142857142857142, 'gini = 0.416\\nsamples = 738\\nvalue = [317.611, 757.423]'),\n",
              " Text(0.14285714285714285, 0.07142857142857142, 'gini = 0.392\\nsamples = 282\\nvalue = [152.295, 55.63]'),\n",
              " Text(0.19047619047619047, 0.21428571428571427, 'gini = 0.411\\nsamples = 1017\\nvalue = [546.336, 222.52]'),\n",
              " Text(0.2857142857142857, 0.5, 'X[3] <= 123.5\\ngini = 0.201\\nsamples = 16921\\nvalue = [9420.189, 1206.741]'),\n",
              " Text(0.23809523809523808, 0.35714285714285715, 'gini = 0.085\\nsamples = 9812\\nvalue = [5521.106, 256.753]'),\n",
              " Text(0.3333333333333333, 0.35714285714285715, 'X[8] <= 0.5\\ngini = 0.315\\nsamples = 7109\\nvalue = [3899.083, 949.988]'),\n",
              " Text(0.2857142857142857, 0.21428571428571427, 'X[0] <= 28.5\\ngini = 0.434\\nsamples = 2962\\nvalue = [1579.562, 736.027]'),\n",
              " Text(0.23809523809523808, 0.07142857142857142, 'gini = 0.43\\nsamples = 195\\nvalue = [85.489, 188.286]'),\n",
              " Text(0.3333333333333333, 0.07142857142857142, 'gini = 0.393\\nsamples = 2767\\nvalue = [1494.073, 547.741]'),\n",
              " Text(0.38095238095238093, 0.21428571428571427, 'gini = 0.155\\nsamples = 4147\\nvalue = [2319.521, 213.961]'),\n",
              " Text(0.2857142857142857, 0.6428571428571429, 'gini = 0.237\\nsamples = 439\\nvalue = [135.876, 851.566]'),\n",
              " Text(0.7380952380952381, 0.7857142857142857, 'X[3] <= 472.5\\ngini = 0.434\\nsamples = 15790\\nvalue = [6965.924, 14917.374]'),\n",
              " Text(0.5714285714285714, 0.6428571428571429, 'X[13] <= 1.5\\ngini = 0.495\\nsamples = 11081\\nvalue = [5398.817, 6611.401]'),\n",
              " Text(0.47619047619047616, 0.5, 'X[14] <= 7.5\\ngini = 0.143\\nsamples = 3175\\nvalue = [1777.715, 149.773]'),\n",
              " Text(0.42857142857142855, 0.35714285714285715, 'gini = 0.1\\nsamples = 3153\\nvalue = [1772.053, 98.422]'),\n",
              " Text(0.5238095238095238, 0.35714285714285715, 'gini = 0.179\\nsamples = 22\\nvalue = [5.662, 51.351]'),\n",
              " Text(0.6666666666666666, 0.5, 'X[15] <= 3.5\\ngini = 0.46\\nsamples = 7906\\nvalue = [3621.103, 6461.628]'),\n",
              " Text(0.6190476190476191, 0.35714285714285715, 'X[8] <= 0.5\\ngini = 0.49\\nsamples = 7384\\nvalue = [3551.466, 4754.218]'),\n",
              " Text(0.5238095238095238, 0.21428571428571427, 'X[9] <= 0.5\\ngini = 0.434\\nsamples = 3786\\nvalue = [1670.146, 3577.431]'),\n",
              " Text(0.47619047619047616, 0.07142857142857142, 'gini = 0.41\\nsamples = 3248\\nvalue = [1384.806, 3431.938]'),\n",
              " Text(0.5714285714285714, 0.07142857142857142, 'gini = 0.447\\nsamples = 538\\nvalue = [285.34, 145.494]'),\n",
              " Text(0.7142857142857143, 0.21428571428571427, 'X[5] <= 374.5\\ngini = 0.473\\nsamples = 3598\\nvalue = [1881.32, 1176.787]'),\n",
              " Text(0.6666666666666666, 0.07142857142857142, 'gini = 0.461\\nsamples = 3562\\nvalue = [1876.791, 1056.968]'),\n",
              " Text(0.7619047619047619, 0.07142857142857142, 'gini = 0.07\\nsamples = 36\\nvalue = [4.529, 119.818]'),\n",
              " Text(0.7142857142857143, 0.35714285714285715, 'gini = 0.075\\nsamples = 522\\nvalue = [69.637, 1707.41]'),\n",
              " Text(0.9047619047619048, 0.6428571428571429, 'X[3] <= 613.5\\ngini = 0.267\\nsamples = 4709\\nvalue = [1567.106, 8305.973]'),\n",
              " Text(0.8571428571428571, 0.5, 'X[13] <= 1.5\\ngini = 0.386\\nsamples = 1850\\nvalue = [762.606, 2152.45]'),\n",
              " Text(0.8095238095238095, 0.35714285714285715, 'gini = 0.499\\nsamples = 505\\nvalue = [250.239, 269.591]'),\n",
              " Text(0.9047619047619048, 0.35714285714285715, 'gini = 0.336\\nsamples = 1345\\nvalue = [512.367, 1882.858]'),\n",
              " Text(0.9523809523809523, 0.5, 'gini = 0.205\\nsamples = 2859\\nvalue = [804.501, 6153.524]')]"
            ]
          },
          "metadata": {},
          "execution_count": 143
        },
        {
          "output_type": "display_data",
          "data": {
            "text/plain": [
              "<Figure size 1152x720 with 1 Axes>"
            ],
            "image/png": "[encoded data removed]"
          },
          "metadata": {
            "needs_background": "light"
          }
        }
      ]
    },
    {
      "cell_type": "markdown",
      "source": [
        "#**Random Forest**"
      ],
      "metadata": {
        "id": "aiTmiCCS-e_8"
      }
    },
    {
      "cell_type": "markdown",
      "source": [
        "A continuación se aplica el modelo de random forest para ver si mejoran las predicciones."
      ],
      "metadata": {
        "id": "Cp_pLk8F9v9W"
      }
    },
    {
      "cell_type": "code",
      "source": [
        "from sklearn.ensemble import RandomForestClassifier\n",
        "model_r = RandomForestClassifier()\n",
        "model_r.fit(train_X, train_y)"
      ],
      "metadata": {
        "colab": {
          "base_uri": "https://localhost:8080/"
        },
        "id": "dlDwYN_Q6VWv",
        "outputId": "33d22a1c-8aac-4665-bc92-d494f3626642"
      },
      "execution_count": 144,
      "outputs": [
        {
          "output_type": "execute_result",
          "data": {
            "text/plain": [
              "RandomForestClassifier()"
            ]
          },
          "metadata": {},
          "execution_count": 144
        }
      ]
    },
    {
      "cell_type": "markdown",
      "source": [
        "# Visualización del modelo"
      ],
      "metadata": {
        "id": "-M8R0ZGnBfdu"
      }
    },
    {
      "cell_type": "code",
      "source": [
        "# Se obtienen algunas predicciones para evaluar el rendimiento del modelo\n",
        "y_fit_r = model_r.predict(val_X)\n",
        "\n",
        "print(classification_report(val_y,y_fit_r))\n",
        "\n",
        "cm = confusion_matrix(val_y,y_fit_r)\n",
        "\n",
        "plt.figure(figsize=(6,6))\n",
        "sns.heatmap(cm.T ,square=True , annot=True, cbar=False, xticklabels=True)\n",
        "plt.xlabel('Clases Verdaderas')\n",
        "plt.ylabel('Clases Predichas')"
      ],
      "metadata": {
        "colab": {
          "base_uri": "https://localhost:8080/",
          "height": 562
        },
        "id": "TnE2BXb2BjEG",
        "outputId": "4f162514-347b-4773-9680-0d0c0469be4e"
      },
      "execution_count": 145,
      "outputs": [
        {
          "output_type": "stream",
          "name": "stdout",
          "text": [
            "              precision    recall  f1-score   support\n",
            "\n",
            "           0       0.93      0.96      0.94      7980\n",
            "           1       0.61      0.42      0.50      1063\n",
            "\n",
            "    accuracy                           0.90      9043\n",
            "   macro avg       0.77      0.69      0.72      9043\n",
            "weighted avg       0.89      0.90      0.89      9043\n",
            "\n"
          ]
        },
        {
          "output_type": "execute_result",
          "data": {
            "text/plain": [
              "Text(40.82000000000001, 0.5, 'Clases Predichas')"
            ]
          },
          "metadata": {},
          "execution_count": 145
        },
        {
          "output_type": "display_data",
          "data": {
            "text/plain": [
              "<Figure size 432x432 with 1 Axes>"
            ],
            "image/png": "[encoded data removed]"
          },
          "metadata": {
            "needs_background": "light"
          }
        }
      ]
    },
    {
      "cell_type": "markdown",
      "source": [
        "El valor de precisión aquí también es de 90%.\n",
        "En este caso ocurre que el modelo no es bueno para odentificar la clase positiva."
      ],
      "metadata": {
        "id": "p4bxOak_B1yR"
      }
    },
    {
      "cell_type": "markdown",
      "source": [
        "- Si se realiza el calculo del área bajo la curva ROC"
      ],
      "metadata": {
        "id": "qyOGLMmEB7L9"
      }
    },
    {
      "cell_type": "markdown",
      "source": [
        "Predecir probabilidades para los datos de prueba."
      ],
      "metadata": {
        "id": "9GWPIwBy9lLI"
      }
    },
    {
      "cell_type": "code",
      "source": [
        "probs = model_r.predict_proba(val_X)"
      ],
      "metadata": {
        "id": "Gm8Hk2fP62JD"
      },
      "execution_count": 146,
      "outputs": []
    },
    {
      "cell_type": "markdown",
      "source": [
        "Mantenga solo las probabilidades de la clase positiva"
      ],
      "metadata": {
        "id": "iA-mstv568UE"
      }
    },
    {
      "cell_type": "code",
      "source": [
        "probs = probs[:, 1]"
      ],
      "metadata": {
        "id": "xWZ8O8VC68td"
      },
      "execution_count": 147,
      "outputs": []
    },
    {
      "cell_type": "markdown",
      "source": [
        "Calcule la puntuación AUC"
      ],
      "metadata": {
        "id": "BqKc9adr7B-M"
      }
    },
    {
      "cell_type": "code",
      "source": [
        "auc = roc_auc_score(val_y, probs)\n",
        "print('AUC: %.2f' % auc)"
      ],
      "metadata": {
        "colab": {
          "base_uri": "https://localhost:8080/"
        },
        "id": "9eeOU9j67F3m",
        "outputId": "6a0c0ae1-8396-477b-e693-e7cc34ad7fe1"
      },
      "execution_count": 148,
      "outputs": [
        {
          "output_type": "stream",
          "name": "stdout",
          "text": [
            "AUC: 0.93\n"
          ]
        }
      ]
    },
    {
      "cell_type": "markdown",
      "source": [
        "En este caso se ve que hay una mejoría en el valor del área bajo la curva, el cual es de 0.93"
      ],
      "metadata": {
        "id": "EyU-QRvSX6eo"
      }
    },
    {
      "cell_type": "markdown",
      "source": [
        "Obtenga la curva ROC"
      ],
      "metadata": {
        "id": "U-UzrHWAgoPh"
      }
    },
    {
      "cell_type": "code",
      "source": [
        "fpr, tpr, thresholds = roc_curve(val_y, probs)"
      ],
      "metadata": {
        "id": "JqsIq0w7goxl"
      },
      "execution_count": 149,
      "outputs": []
    },
    {
      "cell_type": "markdown",
      "source": [
        "Trace la curva ROC usando nuestra función definida"
      ],
      "metadata": {
        "id": "OVdznoEWg3Uz"
      }
    },
    {
      "cell_type": "code",
      "source": [
        "plot_roc_curve(fpr, tpr)"
      ],
      "metadata": {
        "colab": {
          "base_uri": "https://localhost:8080/",
          "height": 622
        },
        "id": "HEJtWjrcg7zD",
        "outputId": "c56797a1-0dd7-4128-e196-491531332e47"
      },
      "execution_count": 150,
      "outputs": [
        {
          "output_type": "display_data",
          "data": {
            "text/plain": [
              "<Figure size 1152x720 with 1 Axes>"
            ],
            "image/png": "[encoded data removed]"
          },
          "metadata": {
            "needs_background": "light"
          }
        }
      ]
    },
    {
      "cell_type": "markdown",
      "source": [
        "Se imprimen los valores conocidos con las predicciones para el modelo de Desicion Trees el cual tuvo mejores resultados para clasificar los casos positivos."
      ],
      "metadata": {
        "id": "y98a6_-xmKy4"
      }
    },
    {
      "cell_type": "code",
      "source": [
        "print(\"Realizando predicciones para las primeras 5 posibles suscripciones:\")\n",
        "print(val_X.head(5))\n",
        "print(\"Las predicciones son\")\n",
        "print(model.predict(val_X.head(5)))"
      ],
      "metadata": {
        "colab": {
          "base_uri": "https://localhost:8080/"
        },
        "id": "y4mMObB3mTxz",
        "outputId": "ec25e5f2-f904-4505-ed0c-4dc24e87dd9b"
      },
      "execution_count": 152,
      "outputs": [
        {
          "output_type": "stream",
          "name": "stdout",
          "text": [
            "Realizando predicciones para las primeras 5 posibles suscripciones:\n",
            "       age  balance  day  duration  campaign  pdays  previous  default_yes  \\\n",
            "14001   37     1403   10        91        15     -1         0            0   \n",
            "32046   36     -253   14      1073         1     -1         0            0   \n",
            "13318   47     -406    8       243         5     -1         0            0   \n",
            "42991   57      501   11       105         7    188         2            0   \n",
            "14237   33     -406   14       332         2     -1         0            1   \n",
            "\n",
            "       housing_yes  loan_yes  ordinal_job  ordinal_marital  ordinal_education  \\\n",
            "14001            1         0            4                1                  4   \n",
            "32046            1         0           12                3                  2   \n",
            "13318            0         1            8                1                  3   \n",
            "42991            1         1            5                1                  3   \n",
            "14237            1         1            8                1                  2   \n",
            "\n",
            "       ordinal_contact  ordinal_month  ordinal_poutcome  \n",
            "14001                3              7                 1  \n",
            "32046                3              4                 1  \n",
            "13318                2              7                 1  \n",
            "42991                3              2                 3  \n",
            "14237                3              7                 1  \n",
            "Las predicciones son\n",
            "[0 1 0 0 0]\n"
          ]
        }
      ]
    },
    {
      "cell_type": "markdown",
      "source": [
        "A continuación se exportarán las predicciones para agregarlas en la base de datos creada en el punto 1."
      ],
      "metadata": {
        "id": "5dMwP90yxuqh"
      }
    },
    {
      "cell_type": "code",
      "source": [
        "val_X.shape"
      ],
      "metadata": {
        "colab": {
          "base_uri": "https://localhost:8080/"
        },
        "id": "61uvIKJ6yFWD",
        "outputId": "f4fdbc33-b092-4d4f-8af5-19d51b3e9876"
      },
      "execution_count": 153,
      "outputs": [
        {
          "output_type": "execute_result",
          "data": {
            "text/plain": [
              "(9043, 16)"
            ]
          },
          "metadata": {},
          "execution_count": 153
        }
      ]
    },
    {
      "cell_type": "code",
      "source": [
        "Pred_data = pd.DataFrame({\"prediction\" : y_fit})\n",
        "\n",
        "Pred_data"
      ],
      "metadata": {
        "colab": {
          "base_uri": "https://localhost:8080/",
          "height": 424
        },
        "id": "JnLbpS8VyVdo",
        "outputId": "e9488941-77eb-4988-fe27-386b255b45d2"
      },
      "execution_count": 154,
      "outputs": [
        {
          "output_type": "execute_result",
          "data": {
            "text/plain": [
              "      prediction\n",
              "0              0\n",
              "1              1\n",
              "2              0\n",
              "3              0\n",
              "4              0\n",
              "...          ...\n",
              "9038           1\n",
              "9039           0\n",
              "9040           0\n",
              "9041           1\n",
              "9042           0\n",
              "\n",
              "[9043 rows x 1 columns]"
            ],
            "text/html": [
              "\n",
              "  <div id=\"df-09339351-3b92-4e44-a842-24740941fef2\">\n",
              "    <div class=\"colab-df-container\">\n",
              "      <div>\n",
              "<style scoped>\n",
              "    .dataframe tbody tr th:only-of-type {\n",
              "        vertical-align: middle;\n",
              "    }\n",
              "\n",
              "    .dataframe tbody tr th {\n",
              "        vertical-align: top;\n",
              "    }\n",
              "\n",
              "    .dataframe thead th {\n",
              "        text-align: right;\n",
              "    }\n",
              "</style>\n",
              "<table border=\"1\" class=\"dataframe\">\n",
              "  <thead>\n",
              "    <tr style=\"text-align: right;\">\n",
              "      <th></th>\n",
              "      <th>prediction</th>\n",
              "    </tr>\n",
              "  </thead>\n",
              "  <tbody>\n",
              "    <tr>\n",
              "      <th>0</th>\n",
              "      <td>0</td>\n",
              "    </tr>\n",
              "    <tr>\n",
              "      <th>1</th>\n",
              "      <td>1</td>\n",
              "    </tr>\n",
              "    <tr>\n",
              "      <th>2</th>\n",
              "      <td>0</td>\n",
              "    </tr>\n",
              "    <tr>\n",
              "      <th>3</th>\n",
              "      <td>0</td>\n",
              "    </tr>\n",
              "    <tr>\n",
              "      <th>4</th>\n",
              "      <td>0</td>\n",
              "    </tr>\n",
              "    <tr>\n",
              "      <th>...</th>\n",
              "      <td>...</td>\n",
              "    </tr>\n",
              "    <tr>\n",
              "      <th>9038</th>\n",
              "      <td>1</td>\n",
              "    </tr>\n",
              "    <tr>\n",
              "      <th>9039</th>\n",
              "      <td>0</td>\n",
              "    </tr>\n",
              "    <tr>\n",
              "      <th>9040</th>\n",
              "      <td>0</td>\n",
              "    </tr>\n",
              "    <tr>\n",
              "      <th>9041</th>\n",
              "      <td>1</td>\n",
              "    </tr>\n",
              "    <tr>\n",
              "      <th>9042</th>\n",
              "      <td>0</td>\n",
              "    </tr>\n",
              "  </tbody>\n",
              "</table>\n",
              "<p>9043 rows × 1 columns</p>\n",
              "</div>\n",
              "      <button class=\"colab-df-convert\" onclick=\"convertToInteractive('df-09339351-3b92-4e44-a842-24740941fef2')\"\n",
              "              title=\"Convert this dataframe to an interactive table.\"\n",
              "              style=\"display:none;\">\n",
              "        \n",
              "  <svg xmlns=\"http://www.w3.org/2000/svg\" height=\"24px\"viewBox=\"0 0 24 24\"\n",
              "       width=\"24px\">\n",
              "    <path d=\"M0 0h24v24H0V0z\" fill=\"none\"/>\n",
              "    <path d=\"M18.56 5.44l.94 2.06.94-2.06 2.06-.94-2.06-.94-.94-2.06-.94 2.06-2.06.94zm-11 1L8.5 8.5l.94-2.06 2.06-.94-2.06-.94L8.5 2.5l-.94 2.06-2.06.94zm10 10l.94 2.06.94-2.06 2.06-.94-2.06-.94-.94-2.06-.94 2.06-2.06.94z\"/><path d=\"M17.41 7.96l-1.37-1.37c-.4-.4-.92-.59-1.43-.59-.52 0-1.04.2-1.43.59L10.3 9.45l-7.72 7.72c-.78.78-.78 2.05 0 2.83L4 21.41c.39.39.9.59 1.41.59.51 0 1.02-.2 1.41-.59l7.78-7.78 2.81-2.81c.8-.78.8-2.07 0-2.86zM5.41 20L4 18.59l7.72-7.72 1.47 1.35L5.41 20z\"/>\n",
              "  </svg>\n",
              "      </button>\n",
              "      \n",
              "  <style>\n",
              "    .colab-df-container {\n",
              "      display:flex;\n",
              "      flex-wrap:wrap;\n",
              "      gap: 12px;\n",
              "    }\n",
              "\n",
              "    .colab-df-convert {\n",
              "      background-color: #E8F0FE;\n",
              "      border: none;\n",
              "      border-radius: 50%;\n",
              "      cursor: pointer;\n",
              "      display: none;\n",
              "      fill: #1967D2;\n",
              "      height: 32px;\n",
              "      padding: 0 0 0 0;\n",
              "      width: 32px;\n",
              "    }\n",
              "\n",
              "    .colab-df-convert:hover {\n",
              "      background-color: #E2EBFA;\n",
              "      box-shadow: 0px 1px 2px rgba(60, 64, 67, 0.3), 0px 1px 3px 1px rgba(60, 64, 67, 0.15);\n",
              "      fill: #174EA6;\n",
              "    }\n",
              "\n",
              "    [theme=dark] .colab-df-convert {\n",
              "      background-color: #3B4455;\n",
              "      fill: #D2E3FC;\n",
              "    }\n",
              "\n",
              "    [theme=dark] .colab-df-convert:hover {\n",
              "      background-color: #434B5C;\n",
              "      box-shadow: 0px 1px 3px 1px rgba(0, 0, 0, 0.15);\n",
              "      filter: drop-shadow(0px 1px 2px rgba(0, 0, 0, 0.3));\n",
              "      fill: #FFFFFF;\n",
              "    }\n",
              "  </style>\n",
              "\n",
              "      <script>\n",
              "        const buttonEl =\n",
              "          document.querySelector('#df-09339351-3b92-4e44-a842-24740941fef2 button.colab-df-convert');\n",
              "        buttonEl.style.display =\n",
              "          google.colab.kernel.accessAllowed ? 'block' : 'none';\n",
              "\n",
              "        async function convertToInteractive(key) {\n",
              "          const element = document.querySelector('#df-09339351-3b92-4e44-a842-24740941fef2');\n",
              "          const dataTable =\n",
              "            await google.colab.kernel.invokeFunction('convertToInteractive',\n",
              "                                                     [key], {});\n",
              "          if (!dataTable) return;\n",
              "\n",
              "          const docLinkHtml = 'Like what you see? Visit the ' +\n",
              "            '<a target=\"_blank\" href=https://colab.research.google.com/notebooks/data_table.ipynb>data table notebook</a>'\n",
              "            + ' to learn more about interactive tables.';\n",
              "          element.innerHTML = '';\n",
              "          dataTable['output_type'] = 'display_data';\n",
              "          await google.colab.output.renderOutput(dataTable, element);\n",
              "          const docLink = document.createElement('div');\n",
              "          docLink.innerHTML = docLinkHtml;\n",
              "          element.appendChild(docLink);\n",
              "        }\n",
              "      </script>\n",
              "    </div>\n",
              "  </div>\n",
              "  "
            ]
          },
          "metadata": {},
          "execution_count": 154
        }
      ]
    },
    {
      "cell_type": "markdown",
      "source": [
        "Si ahora reemplazamos los núemros por las palabras para mayor claridad"
      ],
      "metadata": {
        "id": "rHy_0kp374ZE"
      }
    },
    {
      "cell_type": "code",
      "source": [
        "Pred_data[\"prediction\"] = Pred_data[\"prediction\"].replace([0, 1], ('no', 'yes'))"
      ],
      "metadata": {
        "id": "reWgi_qy7_AN"
      },
      "execution_count": 157,
      "outputs": []
    },
    {
      "cell_type": "code",
      "source": [
        "# Chequeamos \n",
        "Pred_data"
      ],
      "metadata": {
        "colab": {
          "base_uri": "https://localhost:8080/",
          "height": 424
        },
        "id": "ugmocDA-8haz",
        "outputId": "77ee3a9e-519c-4b36-c767-300f54f451ff"
      },
      "execution_count": 158,
      "outputs": [
        {
          "output_type": "execute_result",
          "data": {
            "text/plain": [
              "     prediction\n",
              "0            no\n",
              "1           yes\n",
              "2            no\n",
              "3            no\n",
              "4            no\n",
              "...         ...\n",
              "9038        yes\n",
              "9039         no\n",
              "9040         no\n",
              "9041        yes\n",
              "9042         no\n",
              "\n",
              "[9043 rows x 1 columns]"
            ],
            "text/html": [
              "\n",
              "  <div id=\"df-130f57b5-a627-4af5-97ac-2b0038666d76\">\n",
              "    <div class=\"colab-df-container\">\n",
              "      <div>\n",
              "<style scoped>\n",
              "    .dataframe tbody tr th:only-of-type {\n",
              "        vertical-align: middle;\n",
              "    }\n",
              "\n",
              "    .dataframe tbody tr th {\n",
              "        vertical-align: top;\n",
              "    }\n",
              "\n",
              "    .dataframe thead th {\n",
              "        text-align: right;\n",
              "    }\n",
              "</style>\n",
              "<table border=\"1\" class=\"dataframe\">\n",
              "  <thead>\n",
              "    <tr style=\"text-align: right;\">\n",
              "      <th></th>\n",
              "      <th>prediction</th>\n",
              "    </tr>\n",
              "  </thead>\n",
              "  <tbody>\n",
              "    <tr>\n",
              "      <th>0</th>\n",
              "      <td>no</td>\n",
              "    </tr>\n",
              "    <tr>\n",
              "      <th>1</th>\n",
              "      <td>yes</td>\n",
              "    </tr>\n",
              "    <tr>\n",
              "      <th>2</th>\n",
              "      <td>no</td>\n",
              "    </tr>\n",
              "    <tr>\n",
              "      <th>3</th>\n",
              "      <td>no</td>\n",
              "    </tr>\n",
              "    <tr>\n",
              "      <th>4</th>\n",
              "      <td>no</td>\n",
              "    </tr>\n",
              "    <tr>\n",
              "      <th>...</th>\n",
              "      <td>...</td>\n",
              "    </tr>\n",
              "    <tr>\n",
              "      <th>9038</th>\n",
              "      <td>yes</td>\n",
              "    </tr>\n",
              "    <tr>\n",
              "      <th>9039</th>\n",
              "      <td>no</td>\n",
              "    </tr>\n",
              "    <tr>\n",
              "      <th>9040</th>\n",
              "      <td>no</td>\n",
              "    </tr>\n",
              "    <tr>\n",
              "      <th>9041</th>\n",
              "      <td>yes</td>\n",
              "    </tr>\n",
              "    <tr>\n",
              "      <th>9042</th>\n",
              "      <td>no</td>\n",
              "    </tr>\n",
              "  </tbody>\n",
              "</table>\n",
              "<p>9043 rows × 1 columns</p>\n",
              "</div>\n",
              "      <button class=\"colab-df-convert\" onclick=\"convertToInteractive('df-130f57b5-a627-4af5-97ac-2b0038666d76')\"\n",
              "              title=\"Convert this dataframe to an interactive table.\"\n",
              "              style=\"display:none;\">\n",
              "        \n",
              "  <svg xmlns=\"http://www.w3.org/2000/svg\" height=\"24px\"viewBox=\"0 0 24 24\"\n",
              "       width=\"24px\">\n",
              "    <path d=\"M0 0h24v24H0V0z\" fill=\"none\"/>\n",
              "    <path d=\"M18.56 5.44l.94 2.06.94-2.06 2.06-.94-2.06-.94-.94-2.06-.94 2.06-2.06.94zm-11 1L8.5 8.5l.94-2.06 2.06-.94-2.06-.94L8.5 2.5l-.94 2.06-2.06.94zm10 10l.94 2.06.94-2.06 2.06-.94-2.06-.94-.94-2.06-.94 2.06-2.06.94z\"/><path d=\"M17.41 7.96l-1.37-1.37c-.4-.4-.92-.59-1.43-.59-.52 0-1.04.2-1.43.59L10.3 9.45l-7.72 7.72c-.78.78-.78 2.05 0 2.83L4 21.41c.39.39.9.59 1.41.59.51 0 1.02-.2 1.41-.59l7.78-7.78 2.81-2.81c.8-.78.8-2.07 0-2.86zM5.41 20L4 18.59l7.72-7.72 1.47 1.35L5.41 20z\"/>\n",
              "  </svg>\n",
              "      </button>\n",
              "      \n",
              "  <style>\n",
              "    .colab-df-container {\n",
              "      display:flex;\n",
              "      flex-wrap:wrap;\n",
              "      gap: 12px;\n",
              "    }\n",
              "\n",
              "    .colab-df-convert {\n",
              "      background-color: #E8F0FE;\n",
              "      border: none;\n",
              "      border-radius: 50%;\n",
              "      cursor: pointer;\n",
              "      display: none;\n",
              "      fill: #1967D2;\n",
              "      height: 32px;\n",
              "      padding: 0 0 0 0;\n",
              "      width: 32px;\n",
              "    }\n",
              "\n",
              "    .colab-df-convert:hover {\n",
              "      background-color: #E2EBFA;\n",
              "      box-shadow: 0px 1px 2px rgba(60, 64, 67, 0.3), 0px 1px 3px 1px rgba(60, 64, 67, 0.15);\n",
              "      fill: #174EA6;\n",
              "    }\n",
              "\n",
              "    [theme=dark] .colab-df-convert {\n",
              "      background-color: #3B4455;\n",
              "      fill: #D2E3FC;\n",
              "    }\n",
              "\n",
              "    [theme=dark] .colab-df-convert:hover {\n",
              "      background-color: #434B5C;\n",
              "      box-shadow: 0px 1px 3px 1px rgba(0, 0, 0, 0.15);\n",
              "      filter: drop-shadow(0px 1px 2px rgba(0, 0, 0, 0.3));\n",
              "      fill: #FFFFFF;\n",
              "    }\n",
              "  </style>\n",
              "\n",
              "      <script>\n",
              "        const buttonEl =\n",
              "          document.querySelector('#df-130f57b5-a627-4af5-97ac-2b0038666d76 button.colab-df-convert');\n",
              "        buttonEl.style.display =\n",
              "          google.colab.kernel.accessAllowed ? 'block' : 'none';\n",
              "\n",
              "        async function convertToInteractive(key) {\n",
              "          const element = document.querySelector('#df-130f57b5-a627-4af5-97ac-2b0038666d76');\n",
              "          const dataTable =\n",
              "            await google.colab.kernel.invokeFunction('convertToInteractive',\n",
              "                                                     [key], {});\n",
              "          if (!dataTable) return;\n",
              "\n",
              "          const docLinkHtml = 'Like what you see? Visit the ' +\n",
              "            '<a target=\"_blank\" href=https://colab.research.google.com/notebooks/data_table.ipynb>data table notebook</a>'\n",
              "            + ' to learn more about interactive tables.';\n",
              "          element.innerHTML = '';\n",
              "          dataTable['output_type'] = 'display_data';\n",
              "          await google.colab.output.renderOutput(dataTable, element);\n",
              "          const docLink = document.createElement('div');\n",
              "          docLink.innerHTML = docLinkHtml;\n",
              "          element.appendChild(docLink);\n",
              "        }\n",
              "      </script>\n",
              "    </div>\n",
              "  </div>\n",
              "  "
            ]
          },
          "metadata": {},
          "execution_count": 158
        }
      ]
    },
    {
      "cell_type": "code",
      "source": [
        "# Con el siguiente código se exportan las predicciones a un archivo csv\n",
        "\n",
        "Pred_data.to_csv('predicciones.csv', index = False)"
      ],
      "metadata": {
        "id": "VaKjchy7y1Xo"
      },
      "execution_count": 159,
      "outputs": []
    },
    {
      "cell_type": "markdown",
      "source": [
        "#**CRITERIO DE MÉTRICAS DE EVALUACIÓN**\n",
        "\n",
        "Para ambas métricas de evaluación se consideró que la contidad de muestras que se pueden obtener por día son límitadas (discretas) para lo cual se necesitán métricas que puedan trabajar con dicha información, procesarla y dar resultados concretos.\n",
        "\n",
        "**Informe de Clasificación**\n",
        "\n",
        "El uso del informe de clasificación se le eligió ya que da una idea rápida de cómo se desempeñó el modelo. Devuelve los valores de Recall, Precision, F-Score para cada etiqueta de la variable objetivo, lo cual permite identificar de forma cuantitativa si el modelo está clasificando bien ambas clases.\n",
        "\n",
        "**Matriz de Confusión**\n",
        "\n",
        "Es una menera muy clara y gráfica de observar los FP, VP, FN y VN.\n",
        "Consiste en una tabla o gráfico que representa la precisión de un modelo con respecto a dos o más clases. Las predicciones del modelo estarán en el eje X, mientras que los resultados / precisión se ubicarán en el eje Y.\n",
        "\n",
        "Las celdas se llenan con la cantidad de predicciones que hace el modelo. Las predicciones correctas se pueden encontrar en una línea diagonal que se mueve desde la parte superior izquierda hacia la parte inferior derecha. Puede leer más sobre la interpretación de una matriz de confusión aquí.\n",
        "\n",
        "**Área Bajo la Curva ROC (AUC)**\n",
        "\n",
        "Es una métrica que se utiliza especialmente para problemas de clasificación binaria.\n",
        "ROC es una curva de probabilidad para diferentes clases. Nos dice qué tan bueno es el modelo para distinguir las clases dadas, en términos de la probabilidad predicha.\n",
        "\n",
        "Tiene una tasa de falsos positivos (FPR) en el eje X y una tasa de verdaderos positivos (TPR) en el eje Y.\n",
        "\n",
        "El área cubierta por la curva es AUC. Cuanto mayor sea el área cubierta, mejores serán los modelos para distinguir las clases dadas. El valor ideal para AUC es 1.\n"
      ],
      "metadata": {
        "id": "EUCZZsyId4QF"
      }
    },
    {
      "cell_type": "markdown",
      "source": [
        "#**Criterio de Elección del Modelo**\n",
        "\n",
        "\n",
        "Se decidió optar por el **Modelo de Árbol de Decisión** debido a que es uno de los modelos más sencillos de aplicar para problemas de clasificación binaria, son fáciles de interpretar aun cuando las relaciones entre predictores son complejas (no linelaes) como en nuestro caso y no tienen tantos requerimientos para su aplicación. Además, se lo puede representar gráficamente lo cual permite un mayor entendimiento de como funciona en cuanto a la jerarquía de las decisiones que toma.\n",
        "No es necesario que se cumpla ningún tipo de distribución específica.\n",
        "Requiere mucha menos limpieza y preprocesado de los datos en comparación con otros métodos de aprendizaje estadístico (por ejemplo, no requieren estandarización).\n",
        "No se ven muy influenciados por outliers.\n",
        "Son muy útiles en la exploración de datos, permiten identificar de forma rápida y eficiente las variables (predictores) más importantes.\n",
        "Son capaces de seleccionar predictores de forma automática.\n",
        "\n",
        "Luego se eligió el **Modelo de Random Forest** el cual es similar al modelo anterior pero mejora al trabajar mediante un conjunto (ensamble) de árboles de decisión individuales, cada uno entrenado con una muestra aleatoria extraída de los datos de entrenamiento originales mediante bootstrapping. Esto implica que cada árbol se entrena con unos datos ligeramente distintos. Lo cual tiene de ventaja que reduce el riesgo de overfitting.\n"
      ],
      "metadata": {
        "id": "Df9GxRX0jMBI"
      }
    },
    {
      "cell_type": "markdown",
      "source": [
        "#**CONCLUSIÓN**\n",
        "\n",
        "\n",
        "En función de los resultados se puede decir que ambos modelos son aceptables, teniendo mejor performance el de Random Forest como era de esperarse. \n",
        "\n",
        "En ambos casos se trato de priorizar la clasificación de la clase 1 ya que es esos casos en los cuales el cliente se suscribe a la cuenta de banco. \n",
        "\n",
        "En caso de querer afinar un poco más el modelo se podría probar de realizar un trabajo sobre los outliers ya que en algunas de las variables estan muy fuera de rango. Se puede realizar un escalado de las variables ya que de esta manera al aplicar modelos más complejos como por ejemplo SVM el mismo no se vea perjudicado.\n",
        "\n",
        "Se debe seguir trabajando para mejorar el código y crear pipelines que permitan tener más limpio, ágil y legible el trabajo.\n"
      ],
      "metadata": {
        "id": "VnI1ItsW3nB2"
      }
    }
  ],
  "metadata": {
    "colab": {
      "name": "Challenge_Data_Science.ipynb",
      "provenance": [],
      "collapsed_sections": [],
      "authorship_tag": "ABX9TyNbjaorDzdqv/WhAiLw8Pxj",
      "include_colab_link": true
    },
    "kernelspec": {
      "display_name": "Python 3",
      "name": "python3"
    },
    "language_info": {
      "name": "python"
    }
  },
  "nbformat": 4,
  "nbformat_minor": 0
}