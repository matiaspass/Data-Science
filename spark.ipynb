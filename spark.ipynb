{
  "nbformat": 4,
  "nbformat_minor": 0,
  "metadata": {
    "colab": {
      "name": "spark",
      "provenance": [],
      "include_colab_link": true
    },
    "kernelspec": {
      "name": "python3",
      "display_name": "Python 3"
    },
    "language_info": {
      "name": "python"
    }
  },
  "cells": [
    {
      "cell_type": "markdown",
      "metadata": {
        "id": "view-in-github",
        "colab_type": "text"
      },
      "source": [
        "<a href=\"https://colab.research.google.com/github/matiaspass/Data-Science/blob/main/spark.ipynb\" target=\"_parent\"><img src=\"https://colab.research.google.com/assets/colab-badge.svg\" alt=\"Open In Colab\"/></a>"
      ]
    },
    {
      "cell_type": "markdown",
      "metadata": {
        "id": "XxcS6liB780q"
      },
      "source": [
        "# **Spark en colab**"
      ]
    },
    {
      "cell_type": "markdown",
      "metadata": {
        "id": "bJ2Z_IYK87_c"
      },
      "source": [
        "**Dependencias**"
      ]
    },
    {
      "cell_type": "code",
      "metadata": {
        "id": "byRiwnXA7LAv"
      },
      "source": [
        "!apt-get install openjdk-8-jdk-headless -qq > /dev/null"
      ],
      "execution_count": null,
      "outputs": []
    },
    {
      "cell_type": "code",
      "metadata": {
        "id": "0dAXxlp49LRq"
      },
      "source": [
        "!wget -q https://downloads.apache.org/spark/spark-3.0.3/spark-3.0.3-bin-hadoop2.7.tgz"
      ],
      "execution_count": null,
      "outputs": []
    },
    {
      "cell_type": "code",
      "metadata": {
        "colab": {
          "base_uri": "https://localhost:8080/"
        },
        "id": "4oHjjr-E9R0l",
        "outputId": "d6d711b2-e99f-473c-f2ec-3d72d45eac69"
      },
      "source": [
        "!ls"
      ],
      "execution_count": null,
      "outputs": [
        {
          "output_type": "stream",
          "name": "stdout",
          "text": [
            "sample_data  spark-3.0.3-bin-hadoop2.7.tgz\n"
          ]
        }
      ]
    },
    {
      "cell_type": "code",
      "metadata": {
        "id": "5NNQuAj1-iX6"
      },
      "source": [
        "!tar xf spark-3.0.3-bin-hadoop2.7.tgz"
      ],
      "execution_count": null,
      "outputs": []
    },
    {
      "cell_type": "code",
      "metadata": {
        "id": "u4HkOCrH-v-S"
      },
      "source": [
        "!pip install -q findspark"
      ],
      "execution_count": null,
      "outputs": []
    },
    {
      "cell_type": "markdown",
      "metadata": {
        "id": "AiQYFd76-8Lw"
      },
      "source": [
        "**Variables de entorno**"
      ]
    },
    {
      "cell_type": "code",
      "metadata": {
        "id": "_LcAq9LO-_TF"
      },
      "source": [
        "import os\n",
        "os.environ[\"JAVA_HOME\"] = \"/usr/lib/jvm/java-8-openjdk-amd64\"\n",
        "os.environ[\"SPARK_HOME\"] = \"/content/spark-3.0.3-bin-hadoop2.7\""
      ],
      "execution_count": null,
      "outputs": []
    },
    {
      "cell_type": "markdown",
      "metadata": {
        "id": "hRfW6ozW_PGp"
      },
      "source": [
        "**Probamos instalación**"
      ]
    },
    {
      "cell_type": "code",
      "metadata": {
        "id": "hyiYOdmQ_Sqg"
      },
      "source": [
        "import findspark\n",
        "findspark.init()\n",
        "from pyspark.sql import SparkSession\n",
        "spark = SparkSession.builder.master(\"local[*]\").getOrCreate()\n",
        "spark.stop()"
      ],
      "execution_count": null,
      "outputs": []
    },
    {
      "cell_type": "markdown",
      "metadata": {
        "id": "GRR-ogdX_u2I"
      },
      "source": [
        "**Contar palabras**\n",
        "\n",
        "\n",
        "> Recordar subir archivo \"libro.txt\"\n",
        "\n"
      ]
    },
    {
      "cell_type": "code",
      "metadata": {
        "id": "_L2JGZVS_tyf"
      },
      "source": [
        "import sys\n",
        " \n",
        "from pyspark import SparkContext, SparkConf\n",
        " \n",
        "if __name__ == \"__main__\":\n",
        "\t\n",
        "  # create Spark context with necessary configuration\n",
        "  sc = SparkContext(\"local\",\"PySpark Word Count Exmaple\")\n",
        "  \n",
        "\t\n",
        "  # read data from text file and split each line into words\n",
        "  words = sc.textFile(\"/content/libro.txt\").flatMap(lambda line: line.split(\" \"))\n",
        "\t\n",
        "  # count the occurrence of each word\n",
        "  wordCounts = words.map(lambda word: (word, 1)).reduceByKey(lambda a,b:a +b)\n",
        "\t\n",
        "  # save the counts to output\n",
        "  wordCounts.saveAsTextFile(\"/content/salida\")\n",
        "  sc.stop()"
      ],
      "execution_count": null,
      "outputs": []
    },
    {
      "cell_type": "markdown",
      "metadata": {
        "id": "ShkGvvLsCFy7"
      },
      "source": [
        "El resultado se puede ver en el directorio \"salida\". Dentro encontraremos dos archivos:\n",
        "\n",
        "\n",
        "*   _SUCCESS --> indica que el trabajo se completo de forma exitosa.\n",
        "*   part-000000 --> resultado en sí. Dentro del archivo está la lista de palabras con la cantidad de veces que aparece cada una.\n",
        "\n"
      ]
    }
  ]
}